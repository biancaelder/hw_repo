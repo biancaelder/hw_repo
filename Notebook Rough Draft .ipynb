{
 "cells": [
  {
   "cell_type": "markdown",
   "metadata": {},
   "source": [
    "Project Overview: \n",
    "\n",
    "The quest for romantic love (or at the very least, a date) is at the root of this project. Through regression analysis techniques this project seeks to distill and quantify data collected from experimental speed dating events to shed light on gendered dating behavior and preferences. This study is primarily interested in the attributes that influence the selection of a romantic partners. Questions under consideration include:\n",
    "\n",
    "What are the least and most desirable attributes in a male partner? Does this differ for female partners?\n",
    "\n",
    "How important do people think attractiveness is in potential mate selection vs. its real impact?\n",
    "\n",
    "Are shared interests more important than a shared racial background?\n",
    "\n",
    "Can people accurately predict their own perceived value in the dating market?\n"
   ]
  },
  {
   "cell_type": "code",
   "execution_count": 59,
   "metadata": {
    "collapsed": true
   },
   "outputs": [],
   "source": [
    "import pandas as pd\n",
    "import numpy as np \n",
    "import matplotlib.pyplot as plt \n",
    "plt.style.use('ggplot')\n",
    "%matplotlib inline\n",
    "import statsmodels.api as sm \n",
    "import pylab as pl\n",
    "import seaborn as sns"
   ]
  },
  {
   "cell_type": "code",
   "execution_count": 60,
   "metadata": {
    "collapsed": false
   },
   "outputs": [
    {
     "name": "stdout",
     "output_type": "stream",
     "text": [
      "   iid   id  gender  idg  condtn  wave  round  position  positin1  order  \\\n",
      "0    1  1.0       0    1       1     1     10         7       NaN      4   \n",
      "1    1  1.0       0    1       1     1     10         7       NaN      3   \n",
      "2    1  1.0       0    1       1     1     10         7       NaN     10   \n",
      "3    1  1.0       0    1       1     1     10         7       NaN      5   \n",
      "4    1  1.0       0    1       1     1     10         7       NaN      7   \n",
      "\n",
      "    ...    attr3_3  sinc3_3  intel3_3  fun3_3  amb3_3  attr5_3  sinc5_3  \\\n",
      "0   ...        5.0      7.0       7.0     7.0     7.0      NaN      NaN   \n",
      "1   ...        5.0      7.0       7.0     7.0     7.0      NaN      NaN   \n",
      "2   ...        5.0      7.0       7.0     7.0     7.0      NaN      NaN   \n",
      "3   ...        5.0      7.0       7.0     7.0     7.0      NaN      NaN   \n",
      "4   ...        5.0      7.0       7.0     7.0     7.0      NaN      NaN   \n",
      "\n",
      "   intel5_3  fun5_3  amb5_3  \n",
      "0       NaN     NaN     NaN  \n",
      "1       NaN     NaN     NaN  \n",
      "2       NaN     NaN     NaN  \n",
      "3       NaN     NaN     NaN  \n",
      "4       NaN     NaN     NaN  \n",
      "\n",
      "[5 rows x 195 columns]\n"
     ]
    }
   ],
   "source": [
    "df = pd.read_csv(\"../desktop/Speed Dating Data.csv\") #import data\n",
    "#groupby subject id \n",
    "dfgrouped = df.groupby('iid') #groupby subject id \n",
    "print df.head()"
   ]
  },
  {
   "cell_type": "code",
   "execution_count": 61,
   "metadata": {
    "collapsed": false
   },
   "outputs": [],
   "source": [
    "men = df[df['gender'] == 1] #split gender \n",
    "women = df[df['gender'] == 0]\n",
    "women.fillna(value=0,inplace=True)\n",
    "men.fillna(value=0, inplace = True)"
   ]
  },
  {
   "cell_type": "code",
   "execution_count": 62,
   "metadata": {
    "collapsed": true
   },
   "outputs": [],
   "source": [
    "input_vars = ['attr', 'sinc', 'intel', 'fun', 'amb', 'shar','race']"
   ]
  },
  {
   "cell_type": "code",
   "execution_count": 63,
   "metadata": {
    "collapsed": false
   },
   "outputs": [
    {
     "data": {
      "text/plain": [
       "<matplotlib.text.Text at 0x12218d9d0>"
      ]
     },
     "execution_count": 63,
     "metadata": {},
     "output_type": "execute_result"
    },
    {
     "data": {
      "image/png": "[encoded data removed]",
      "text/plain": [
       "<matplotlib.figure.Figure at 0x1221d5fd0>"
      ]
     },
     "metadata": {},
     "output_type": "display_data"
    }
   ],
   "source": [
    "matched_df = women[women['match']==1]\n",
    "matched_df_vars = matched_df[input_vars]\n",
    "histogram_data = matched_df_vars.sum(axis=0)\n",
    "sns.barplot(x=histogram_data.index, y=histogram_data,  palette=\"Greens_d\");\n",
    "sns.plt.title('Most Desirable Attributes in a Male Partner')"
   ]
  },
  {
   "cell_type": "code",
   "execution_count": 64,
   "metadata": {
    "collapsed": false
   },
   "outputs": [
    {
     "data": {
      "text/plain": [
       "<matplotlib.text.Text at 0x1221459d0>"
      ]
     },
     "execution_count": 64,
     "metadata": {},
     "output_type": "execute_result"
    },
    {
     "data": {
      "image/png": "[encoded data removed]",
      "text/plain": [
       "<matplotlib.figure.Figure at 0x11a9bfd10>"
      ]
     },
     "metadata": {},
     "output_type": "display_data"
    }
   ],
   "source": [
    "matched_df = men[men['match']==1]\n",
    "matched_df_vars = matched_df[input_vars]\n",
    "histogram_data = matched_df_vars.sum(axis=0)\n",
    "sns.barplot(x=histogram_data.index, y=histogram_data,  palette=\"Purples_d\");\n",
    "sns.plt.title('Most Desirable Attributes in a Female Partner')"
   ]
  },
  {
   "cell_type": "code",
   "execution_count": 65,
   "metadata": {
    "collapsed": false
   },
   "outputs": [
    {
     "data": {
      "text/html": [
       "<table class=\"simpletable\">\n",
       "<caption>OLS Regression Results</caption>\n",
       "<tr>\n",
       "  <th>Dep. Variable:</th>          <td>match</td>      <th>  R-squared:         </th> <td>   0.109</td> \n",
       "</tr>\n",
       "<tr>\n",
       "  <th>Model:</th>                   <td>OLS</td>       <th>  Adj. R-squared:    </th> <td>   0.108</td> \n",
       "</tr>\n",
       "<tr>\n",
       "  <th>Method:</th>             <td>Least Squares</td>  <th>  F-statistic:       </th> <td>   73.22</td> \n",
       "</tr>\n",
       "<tr>\n",
       "  <th>Date:</th>             <td>Mon, 29 Aug 2016</td> <th>  Prob (F-statistic):</th> <td>2.55e-100</td>\n",
       "</tr>\n",
       "<tr>\n",
       "  <th>Time:</th>                 <td>15:58:51</td>     <th>  Log-Likelihood:    </th> <td> -1547.2</td> \n",
       "</tr>\n",
       "<tr>\n",
       "  <th>No. Observations:</th>      <td>  4184</td>      <th>  AIC:               </th> <td>   3110.</td> \n",
       "</tr>\n",
       "<tr>\n",
       "  <th>Df Residuals:</th>          <td>  4176</td>      <th>  BIC:               </th> <td>   3161.</td> \n",
       "</tr>\n",
       "<tr>\n",
       "  <th>Df Model:</th>              <td>     7</td>      <th>                     </th>     <td> </td>    \n",
       "</tr>\n",
       "<tr>\n",
       "  <th>Covariance Type:</th>      <td>nonrobust</td>    <th>                     </th>     <td> </td>    \n",
       "</tr>\n",
       "</table>\n",
       "<table class=\"simpletable\">\n",
       "<tr>\n",
       "    <td></td>       <th>coef</th>     <th>std err</th>      <th>t</th>      <th>P>|t|</th> <th>[95.0% Conf. Int.]</th> \n",
       "</tr>\n",
       "<tr>\n",
       "  <th>const</th> <td>   -0.1669</td> <td>    0.025</td> <td>   -6.736</td> <td> 0.000</td> <td>   -0.215    -0.118</td>\n",
       "</tr>\n",
       "<tr>\n",
       "  <th>attr</th>  <td>    0.0224</td> <td>    0.003</td> <td>    6.758</td> <td> 0.000</td> <td>    0.016     0.029</td>\n",
       "</tr>\n",
       "<tr>\n",
       "  <th>sinc</th>  <td>    0.0006</td> <td>    0.004</td> <td>    0.182</td> <td> 0.855</td> <td>   -0.006     0.008</td>\n",
       "</tr>\n",
       "<tr>\n",
       "  <th>intel</th> <td>    0.0040</td> <td>    0.004</td> <td>    1.017</td> <td> 0.309</td> <td>   -0.004     0.012</td>\n",
       "</tr>\n",
       "<tr>\n",
       "  <th>fun</th>   <td>    0.0259</td> <td>    0.003</td> <td>    7.766</td> <td> 0.000</td> <td>    0.019     0.032</td>\n",
       "</tr>\n",
       "<tr>\n",
       "  <th>amb</th>   <td>   -0.0110</td> <td>    0.003</td> <td>   -4.186</td> <td> 0.000</td> <td>   -0.016    -0.006</td>\n",
       "</tr>\n",
       "<tr>\n",
       "  <th>shar</th>  <td>    0.0159</td> <td>    0.002</td> <td>    6.558</td> <td> 0.000</td> <td>    0.011     0.021</td>\n",
       "</tr>\n",
       "<tr>\n",
       "  <th>race</th>  <td>    0.0035</td> <td>    0.004</td> <td>    0.806</td> <td> 0.420</td> <td>   -0.005     0.012</td>\n",
       "</tr>\n",
       "</table>\n",
       "<table class=\"simpletable\">\n",
       "<tr>\n",
       "  <th>Omnibus:</th>       <td>920.289</td> <th>  Durbin-Watson:     </th> <td>   1.813</td>\n",
       "</tr>\n",
       "<tr>\n",
       "  <th>Prob(Omnibus):</th> <td> 0.000</td>  <th>  Jarque-Bera (JB):  </th> <td>1639.392</td>\n",
       "</tr>\n",
       "<tr>\n",
       "  <th>Skew:</th>          <td> 1.481</td>  <th>  Prob(JB):          </th> <td>    0.00</td>\n",
       "</tr>\n",
       "<tr>\n",
       "  <th>Kurtosis:</th>      <td> 3.794</td>  <th>  Cond. No.          </th> <td>    73.8</td>\n",
       "</tr>\n",
       "</table>"
      ],
      "text/plain": [
       "<class 'statsmodels.iolib.summary.Summary'>\n",
       "\"\"\"\n",
       "                            OLS Regression Results                            \n",
       "==============================================================================\n",
       "Dep. Variable:                  match   R-squared:                       0.109\n",
       "Model:                            OLS   Adj. R-squared:                  0.108\n",
       "Method:                 Least Squares   F-statistic:                     73.22\n",
       "Date:                Mon, 29 Aug 2016   Prob (F-statistic):          2.55e-100\n",
       "Time:                        15:58:51   Log-Likelihood:                -1547.2\n",
       "No. Observations:                4184   AIC:                             3110.\n",
       "Df Residuals:                    4176   BIC:                             3161.\n",
       "Df Model:                           7                                         \n",
       "Covariance Type:            nonrobust                                         \n",
       "==============================================================================\n",
       "                 coef    std err          t      P>|t|      [95.0% Conf. Int.]\n",
       "------------------------------------------------------------------------------\n",
       "const         -0.1669      0.025     -6.736      0.000        -0.215    -0.118\n",
       "attr           0.0224      0.003      6.758      0.000         0.016     0.029\n",
       "sinc           0.0006      0.004      0.182      0.855        -0.006     0.008\n",
       "intel          0.0040      0.004      1.017      0.309        -0.004     0.012\n",
       "fun            0.0259      0.003      7.766      0.000         0.019     0.032\n",
       "amb           -0.0110      0.003     -4.186      0.000        -0.016    -0.006\n",
       "shar           0.0159      0.002      6.558      0.000         0.011     0.021\n",
       "race           0.0035      0.004      0.806      0.420        -0.005     0.012\n",
       "==============================================================================\n",
       "Omnibus:                      920.289   Durbin-Watson:                   1.813\n",
       "Prob(Omnibus):                  0.000   Jarque-Bera (JB):             1639.392\n",
       "Skew:                           1.481   Prob(JB):                         0.00\n",
       "Kurtosis:                       3.794   Cond. No.                         73.8\n",
       "==============================================================================\n",
       "\n",
       "Warnings:\n",
       "[1] Standard Errors assume that the covariance matrix of the errors is correctly specified.\n",
       "\"\"\""
      ]
     },
     "execution_count": 65,
     "metadata": {},
     "output_type": "execute_result"
    }
   ],
   "source": [
    "#sklearn\n",
    "\n",
    "#model by gender (women)\n",
    "#women_clean = women[input_vars]\n",
    "\n",
    "#women_clean.head()\n",
    "x = women[input_vars]\n",
    "x = sm.add_constant(x)\n",
    "y = women.match\n",
    "female_model = sm.OLS(y,x)\n",
    "female_results = female_model.fit()\n",
    "female_results.summary()"
   ]
  },
  {
   "cell_type": "code",
   "execution_count": 66,
   "metadata": {
    "collapsed": false
   },
   "outputs": [
    {
     "name": "stdout",
     "output_type": "stream",
     "text": [
      "              0         1\n",
      "const -0.215415 -0.118286\n",
      "attr   0.015876  0.028853\n",
      "sinc  -0.006299  0.007591\n",
      "intel -0.003749  0.011835\n",
      "fun    0.019348  0.032415\n",
      "amb   -0.016197 -0.005865\n",
      "shar   0.011131  0.020626\n",
      "race  -0.005027  0.012050\n"
     ]
    }
   ],
   "source": [
    "print female_results.conf_int()"
   ]
  },
  {
   "cell_type": "code",
   "execution_count": 67,
   "metadata": {
    "collapsed": false
   },
   "outputs": [
    {
     "name": "stdout",
     "output_type": "stream",
     "text": [
      "const    0.846326\n",
      "attr     1.022617\n",
      "sinc     1.000647\n",
      "intel    1.004051\n",
      "fun      1.026219\n",
      "amb      0.989029\n",
      "shar     1.016005\n",
      "race     1.003518\n",
      "dtype: float64\n"
     ]
    }
   ],
   "source": [
    "print np.exp(female_results.params)"
   ]
  },
  {
   "cell_type": "code",
   "execution_count": 68,
   "metadata": {
    "collapsed": false
   },
   "outputs": [
    {
     "data": {
      "text/html": [
       "<table class=\"simpletable\">\n",
       "<caption>OLS Regression Results</caption>\n",
       "<tr>\n",
       "  <th>Dep. Variable:</th>          <td>match</td>      <th>  R-squared:         </th> <td>   0.109</td> \n",
       "</tr>\n",
       "<tr>\n",
       "  <th>Model:</th>                   <td>OLS</td>       <th>  Adj. R-squared:    </th> <td>   0.108</td> \n",
       "</tr>\n",
       "<tr>\n",
       "  <th>Method:</th>             <td>Least Squares</td>  <th>  F-statistic:       </th> <td>   73.22</td> \n",
       "</tr>\n",
       "<tr>\n",
       "  <th>Date:</th>             <td>Mon, 29 Aug 2016</td> <th>  Prob (F-statistic):</th> <td>2.55e-100</td>\n",
       "</tr>\n",
       "<tr>\n",
       "  <th>Time:</th>                 <td>15:58:54</td>     <th>  Log-Likelihood:    </th> <td> -1547.2</td> \n",
       "</tr>\n",
       "<tr>\n",
       "  <th>No. Observations:</th>      <td>  4184</td>      <th>  AIC:               </th> <td>   3110.</td> \n",
       "</tr>\n",
       "<tr>\n",
       "  <th>Df Residuals:</th>          <td>  4176</td>      <th>  BIC:               </th> <td>   3161.</td> \n",
       "</tr>\n",
       "<tr>\n",
       "  <th>Df Model:</th>              <td>     7</td>      <th>                     </th>     <td> </td>    \n",
       "</tr>\n",
       "<tr>\n",
       "  <th>Covariance Type:</th>      <td>nonrobust</td>    <th>                     </th>     <td> </td>    \n",
       "</tr>\n",
       "</table>\n",
       "<table class=\"simpletable\">\n",
       "<tr>\n",
       "    <td></td>       <th>coef</th>     <th>std err</th>      <th>t</th>      <th>P>|t|</th> <th>[95.0% Conf. Int.]</th> \n",
       "</tr>\n",
       "<tr>\n",
       "  <th>const</th> <td>   -0.1669</td> <td>    0.025</td> <td>   -6.736</td> <td> 0.000</td> <td>   -0.215    -0.118</td>\n",
       "</tr>\n",
       "<tr>\n",
       "  <th>attr</th>  <td>    0.0224</td> <td>    0.003</td> <td>    6.758</td> <td> 0.000</td> <td>    0.016     0.029</td>\n",
       "</tr>\n",
       "<tr>\n",
       "  <th>sinc</th>  <td>    0.0006</td> <td>    0.004</td> <td>    0.182</td> <td> 0.855</td> <td>   -0.006     0.008</td>\n",
       "</tr>\n",
       "<tr>\n",
       "  <th>intel</th> <td>    0.0040</td> <td>    0.004</td> <td>    1.017</td> <td> 0.309</td> <td>   -0.004     0.012</td>\n",
       "</tr>\n",
       "<tr>\n",
       "  <th>fun</th>   <td>    0.0259</td> <td>    0.003</td> <td>    7.766</td> <td> 0.000</td> <td>    0.019     0.032</td>\n",
       "</tr>\n",
       "<tr>\n",
       "  <th>amb</th>   <td>   -0.0110</td> <td>    0.003</td> <td>   -4.186</td> <td> 0.000</td> <td>   -0.016    -0.006</td>\n",
       "</tr>\n",
       "<tr>\n",
       "  <th>shar</th>  <td>    0.0159</td> <td>    0.002</td> <td>    6.558</td> <td> 0.000</td> <td>    0.011     0.021</td>\n",
       "</tr>\n",
       "<tr>\n",
       "  <th>race</th>  <td>    0.0035</td> <td>    0.004</td> <td>    0.806</td> <td> 0.420</td> <td>   -0.005     0.012</td>\n",
       "</tr>\n",
       "</table>\n",
       "<table class=\"simpletable\">\n",
       "<tr>\n",
       "  <th>Omnibus:</th>       <td>920.289</td> <th>  Durbin-Watson:     </th> <td>   1.813</td>\n",
       "</tr>\n",
       "<tr>\n",
       "  <th>Prob(Omnibus):</th> <td> 0.000</td>  <th>  Jarque-Bera (JB):  </th> <td>1639.392</td>\n",
       "</tr>\n",
       "<tr>\n",
       "  <th>Skew:</th>          <td> 1.481</td>  <th>  Prob(JB):          </th> <td>    0.00</td>\n",
       "</tr>\n",
       "<tr>\n",
       "  <th>Kurtosis:</th>      <td> 3.794</td>  <th>  Cond. No.          </th> <td>    73.8</td>\n",
       "</tr>\n",
       "</table>"
      ],
      "text/plain": [
       "<class 'statsmodels.iolib.summary.Summary'>\n",
       "\"\"\"\n",
       "                            OLS Regression Results                            \n",
       "==============================================================================\n",
       "Dep. Variable:                  match   R-squared:                       0.109\n",
       "Model:                            OLS   Adj. R-squared:                  0.108\n",
       "Method:                 Least Squares   F-statistic:                     73.22\n",
       "Date:                Mon, 29 Aug 2016   Prob (F-statistic):          2.55e-100\n",
       "Time:                        15:58:54   Log-Likelihood:                -1547.2\n",
       "No. Observations:                4184   AIC:                             3110.\n",
       "Df Residuals:                    4176   BIC:                             3161.\n",
       "Df Model:                           7                                         \n",
       "Covariance Type:            nonrobust                                         \n",
       "==============================================================================\n",
       "                 coef    std err          t      P>|t|      [95.0% Conf. Int.]\n",
       "------------------------------------------------------------------------------\n",
       "const         -0.1669      0.025     -6.736      0.000        -0.215    -0.118\n",
       "attr           0.0224      0.003      6.758      0.000         0.016     0.029\n",
       "sinc           0.0006      0.004      0.182      0.855        -0.006     0.008\n",
       "intel          0.0040      0.004      1.017      0.309        -0.004     0.012\n",
       "fun            0.0259      0.003      7.766      0.000         0.019     0.032\n",
       "amb           -0.0110      0.003     -4.186      0.000        -0.016    -0.006\n",
       "shar           0.0159      0.002      6.558      0.000         0.011     0.021\n",
       "race           0.0035      0.004      0.806      0.420        -0.005     0.012\n",
       "==============================================================================\n",
       "Omnibus:                      920.289   Durbin-Watson:                   1.813\n",
       "Prob(Omnibus):                  0.000   Jarque-Bera (JB):             1639.392\n",
       "Skew:                           1.481   Prob(JB):                         0.00\n",
       "Kurtosis:                       3.794   Cond. No.                         73.8\n",
       "==============================================================================\n",
       "\n",
       "Warnings:\n",
       "[1] Standard Errors assume that the covariance matrix of the errors is correctly specified.\n",
       "\"\"\""
      ]
     },
     "execution_count": 68,
     "metadata": {},
     "output_type": "execute_result"
    }
   ],
   "source": [
    "x = men[input_vars]\n",
    "x = sm.add_constant(x)\n",
    "y = men.match\n",
    "male_model = sm.OLS(y,x)\n",
    "male_results = female_model.fit()\n",
    "male_results.summary()"
   ]
  },
  {
   "cell_type": "markdown",
   "metadata": {
    "collapsed": true
   },
   "source": [
    "These results indicate that men and women are seeking similar attributes in a partner: sincerity, intelligence, and a sense of humour rank hightest for both. The most statistically significant coefficients with p-values of 0.00 are attractiveness, sense of humour, ambition, and shared interests (true for both men and women). "
   ]
  },
  {
   "cell_type": "code",
   "execution_count": 69,
   "metadata": {
    "collapsed": false
   },
   "outputs": [
    {
     "data": {
      "image/png": "[encoded data removed]",
      "text/plain": [
       "<matplotlib.figure.Figure at 0x11bfbb150>"
      ]
     },
     "metadata": {},
     "output_type": "display_data"
    }
   ],
   "source": [
    "sns.barplot(x=\"attr1_1\", data=df); #importance of attractiveness in a partner"
   ]
  },
  {
   "cell_type": "code",
   "execution_count": 70,
   "metadata": {
    "collapsed": false
   },
   "outputs": [
    {
     "data": {
      "image/png": "[encoded data removed]",
      "text/plain": [
       "<matplotlib.figure.Figure at 0x11e358f50>"
      ]
     },
     "metadata": {},
     "output_type": "display_data"
    }
   ],
   "source": [
    "sns.barplot(x=\"attr4_1\", data=df); #how important subject's think attractiveness is to others "
   ]
  },
  {
   "cell_type": "markdown",
   "metadata": {},
   "source": [
    "These results indicate that subjects believe attractiveness to be more important than it actually is on average for their dates. "
   ]
  },
  {
   "cell_type": "code",
   "execution_count": 71,
   "metadata": {
    "collapsed": true
   },
   "outputs": [],
   "source": [
    "race_sharedinterests = ['race', 'shar']"
   ]
  },
  {
   "cell_type": "code",
   "execution_count": 75,
   "metadata": {
    "collapsed": false
   },
   "outputs": [
    {
     "data": {
      "text/plain": [
       "<matplotlib.text.Text at 0x11a1ecf90>"
      ]
     },
     "execution_count": 75,
     "metadata": {},
     "output_type": "execute_result"
    },
    {
     "data": {
      "image/png": "[encoded data removed]",
      "text/plain": [
       "<matplotlib.figure.Figure at 0x11eb48c90>"
      ]
     },
     "metadata": {},
     "output_type": "display_data"
    }
   ],
   "source": [
    "matched_df1 = women[women['match']==1]\n",
    "matched_df_vars1 = matched_df1[race_sharedinterests]\n",
    "histogram_data = matched_df_vars1.sum(axis=0)\n",
    "sns.barplot(x=histogram_data.index, y=histogram_data,  palette=\"Greens_d\");\n",
    "sns.plt.title('The Importance of Shared Interest vs. Race for Women')"
   ]
  },
  {
   "cell_type": "code",
   "execution_count": 76,
   "metadata": {
    "collapsed": false
   },
   "outputs": [
    {
     "data": {
      "text/plain": [
       "<matplotlib.text.Text at 0x11be6b710>"
      ]
     },
     "execution_count": 76,
     "metadata": {},
     "output_type": "execute_result"
    },
    {
     "data": {
      "image/png": "[encoded data removed]",
      "text/plain": [
       "<matplotlib.figure.Figure at 0x11b440850>"
      ]
     },
     "metadata": {},
     "output_type": "display_data"
    }
   ],
   "source": [
    "matched_df1 = men[men['match']==1]\n",
    "matched_df_vars1 = matched_df1[race_sharedinterests]\n",
    "histogram_data = matched_df_vars1.sum(axis=0)\n",
    "sns.barplot(x=histogram_data.index, y=histogram_data,  palette=\"Purples_d\");\n",
    "sns.plt.title('Most Desirable Attributes in a Female Partner')"
   ]
  },
  {
   "cell_type": "markdown",
   "metadata": {},
   "source": [
    "These results indicate that both men and women are significantly more interested in having shared interests with their date than their date's racial background. "
   ]
  },
  {
   "cell_type": "code",
   "execution_count": null,
   "metadata": {
    "collapsed": true
   },
   "outputs": [],
   "source": []
  }
 ],
 "metadata": {
  "kernelspec": {
   "display_name": "Python 2",
   "language": "python",
   "name": "python2"
  },
  "language_info": {
   "codemirror_mode": {
    "name": "ipython",
    "version": 2
   },
   "file_extension": ".py",
   "mimetype": "text/x-python",
   "name": "python",
   "nbconvert_exporter": "python",
   "pygments_lexer": "ipython2",
   "version": "2.7.12"
  }
 },
 "nbformat": 4,
 "nbformat_minor": 0
}
