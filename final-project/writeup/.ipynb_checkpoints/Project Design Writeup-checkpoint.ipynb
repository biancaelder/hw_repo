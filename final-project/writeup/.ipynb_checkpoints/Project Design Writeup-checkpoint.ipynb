{
 "cells": [
  {
   "cell_type": "markdown",
   "metadata": {},
   "source": [
    "### Project Problem and Hypothesis"
   ]
  },
  {
   "cell_type": "markdown",
   "metadata": {},
   "source": [
    "In 2010 mathematician Peter Backus used the Drake Equation to calculate his chance of finding love; despite the 7 billion people on Earth, he found only 26 women in the world who might be potential partners. According to Backus, there were more intelligent alien civilizations in the galaxy than potential lady loves. As a pair-bonding species, however, the human drive to love is innate, emanating from the most primitive regions of the brain. \n",
    "\n",
    "The quest for romantic love (or at the very least, a date) is at the root of this project. Through regression analysis techniques this project seeks to distill and quantify data collected from experimental speed dating events to shed light on gendered dating behavior and preferences. This study is primarily interested in the attributes that influence the selection of a romantic partners. Questions under consideration include:  \n",
    "\n",
    "What are the least and most desirable attributes in a male partner? Does this differ for female partners?\n",
    "\n",
    "How important do people think attractiveness is in potential mate selection vs. its real impact?\n",
    "\n",
    "Are shared interests more important than a shared racial background?\n",
    "\n",
    "Hypothesis: Studying dating behavior using an experimental speed dating market where subjects are matched randomly creates variation in the number of potential partners and allows for direct observation of individual preferences rather than just final matches. \n",
    "\n",
    "Null hypothesis: Studying dating behavior using an experimental speed dating market will not yeild significant information on what attributes influence the selection of a romantic partner. \n",
    "\n",
    "While there are many limitations to applying algorithms to patterns of human behavior, as models of reality they can provide useful insight into the how and why of romantic relationships. Machine-learning methods allow us to leverage quantitive tools to solve social scientific problems in more precise ways. Though the natural patterns of human romantic life today are no different that that of our ancestors, our cultural context is ever-evolving. As such, we may use studies such as these to further our understanding of dating preferences from both an evolutionary and cultural standpoint. They also shed light on  a number of social and cultural  issues (e.g., divorce, race relations, intergnerational mobility,etc ) that emerge around mate selection. \n",
    "\n",
    "(Backus is now married.)\n",
    "\n"
   ]
  },
  {
   "cell_type": "markdown",
   "metadata": {},
   "source": [
    "### Dataset"
   ]
  },
  {
   "cell_type": "markdown",
   "metadata": {},
   "source": [
    "The data set for this project comes from data collected at 14 experimental speed dating events from 2002-2004. As is typical of speed dating events, participants engaged in short 'dates' with every other particpant of the opposite sex and were then asked to rate his or her partner on a number of attributes and whether they would like to see their date again. The data set consists of those answers as well as a pre-event survey with information on demographics, dating habits, undergraduate institution, ZIP code where they grew up, field of study, self-perception, beliefs on what others find valuable in a mate, and other lifestyle information.  \n",
    "\n",
    "The six attributes under consideration are: attractiveness, sincerity, intelligence, fun, ambition, and shared interests. \n",
    "\n",
    "The dependent variable is decision to see their partner again(yes, no). The regression results on attribution valuations will be used to assess preferences. \n"
   ]
  },
  {
   "cell_type": "markdown",
   "metadata": {},
   "source": [
    "### Domain Knowledge"
   ]
  },
  {
   "cell_type": "markdown",
   "metadata": {},
   "source": [
    "In the modern information economy, there is no shortage of information on the most complicated market of all: the dating market. While there is a wide range of literature on the science of human connection (ranging from behavioral science to human biochemistry to evolutionaly theory),the suite of psychological, behavioral, and physiological traits associated with romantic attraction are all derived from the simplest of questions: Why Him? Why Her?  \n",
    "\n",
    "I wrote my dissertation on the commodification of love, and am broadly interested in the patterns of love that dictate romantic relationships. While my background is primarily anthropological, data science is a useful tool in negotiating these nebulous concepts becuase mathematics is fundamental to the study of patterns. In this project I hope to integrate my ethnographic perspective with statistical methodologies to deepen my understanding of the patterns of romantic love. \n",
    "\n",
    "I look to Fisman and Iyengar as a guide in the appliction of machine learning algorthims to social scientific stuides.  In their study on racial preference in mate selection they employ linear probability models to document racial preferences. This methodology allows them to verify the existence of racial preferences in their sample as well as understand their determinats. "
   ]
  },
  {
   "cell_type": "markdown",
   "metadata": {},
   "source": [
    "### Project Concerns "
   ]
  },
  {
   "cell_type": "markdown",
   "metadata": {},
   "source": [
    "At the macro level this project is difficult because human behavior isn’t neatly ordered or defined; regardless of the patterns that emerge, even a most detailed data set can only aprroximate an idea or feeling. As such,measuring subjective impressions is an inexact science.  Nuances of human emotion are completely lost to quantification, and thus, are susceptible to oversimplification. \n",
    "\n",
    "The assumption of honest responses is an important caveat to the interpretaion of participant response. It's also important to consider how reason-based choices might affect an outcome. For instance, might someone reject a higher quality (i.e., more intelligent, more attractive than they consider themselves) mate due to fear of rejection?  \n",
    "\n",
    "At the micro level the sample population is drawn solely from students in graduate and professional schools at Columbia University and may be difficult to generalize to other populations. The experimental design may only be applicable to the population at Columbia University; and even then there are myriad of factors outside the scope of the data which may affect a person's decision. \n",
    "\n",
    "I'm not sure there is a right or wrong model in this project. At best it will be an approximation of the dating preferences of a small slice of the universe. A more in-depth study with more rigorous theoritical analysis might be useful in terms of interpreting data but it won't change the range of of possible explanations for human connection. This project overlooks the infinite ambiguous factors at work in mate selection in order to put forward an empirical analysis.  "
   ]
  },
  {
   "cell_type": "markdown",
   "metadata": {},
   "source": [
    "### Outcomes "
   ]
  },
  {
   "cell_type": "markdown",
   "metadata": {},
   "source": [
    "I expect the output to be in line with evolutionary theories, which suggest that women tend to be more selective than men in terms of intelligence and ambition while men put more weight on physical attractiveness. Analysis of this data is an important starting point for an understanding of the dating preferences that underly a number of social issues and thus may be important on both a personal and social level. \n",
    "\n",
    "The model should be able to hihglight a number of attributes (e.g., intelligence, ambition, attractiveness,etc.) in a general way but not so specific (e.g.,interested in endangered apple varieties of South America, pirate kitsch,etc.) that it has no real-world application. A successful model will highlight several prefferred attributes by gender. \n"
   ]
  },
  {
   "cell_type": "code",
   "execution_count": null,
   "metadata": {
    "collapsed": true
   },
   "outputs": [],
   "source": []
  }
 ],
 "metadata": {
  "anaconda-cloud": {},
  "kernelspec": {
   "display_name": "Python 2",
   "language": "python",
   "name": "python2"
  },
  "language_info": {
   "codemirror_mode": {
    "name": "ipython",
    "version": 2
   },
   "file_extension": ".py",
   "mimetype": "text/x-python",
   "name": "python",
   "nbconvert_exporter": "python",
   "pygments_lexer": "ipython2",
   "version": "2.7.12"
  }
 },
 "nbformat": 4,
 "nbformat_minor": 0
}
