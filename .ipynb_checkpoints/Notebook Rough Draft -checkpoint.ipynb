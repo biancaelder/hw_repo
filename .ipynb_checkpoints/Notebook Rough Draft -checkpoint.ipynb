{
 "cells": [
  {
   "cell_type": "markdown",
   "metadata": {},
   "source": [
    "Project Overview: \n",
    "\n",
    "The quest for romantic love (or at the very least, a date) is at the root of this project. Through regression analysis techniques this project seeks to distill and quantify data collected from experimental speed dating events to shed light on gendered dating behavior and preferences. This study is primarily interested in the attributes that influence the selection of a romantic partners. Questions under consideration include:\n",
    "\n",
    "What are the least and most desirable attributes in a male partner? Does this differ for female partners?\n",
    "\n",
    "How important do people think attractiveness is in potential mate selection vs. its real impact?\n",
    "\n",
    "Are shared interests more important than a shared racial background?\n",
    "\n",
    "Can people accurately predict their own perceived value in the dating market?\n"
   ]
  },
  {
   "cell_type": "code",
   "execution_count": 12,
   "metadata": {
    "collapsed": true
   },
   "outputs": [],
   "source": [
    "import pandas as pd\n",
    "import numpy as np \n",
    "import matplotlib.pyplot as plt \n",
    "plt.style.use('ggplot')\n",
    "%matplotlib inline\n",
    "import statsmodels.api as sm \n",
    "import pylab as pl\n",
    "import seaborn as sns"
   ]
  },
  {
   "cell_type": "code",
   "execution_count": 13,
   "metadata": {
    "collapsed": false
   },
   "outputs": [
    {
     "name": "stdout",
     "output_type": "stream",
     "text": [
      "   iid   id  gender  idg  condtn  wave  round  position  positin1  order  \\\n",
      "0    1  1.0       0    1       1     1     10         7       NaN      4   \n",
      "1    1  1.0       0    1       1     1     10         7       NaN      3   \n",
      "2    1  1.0       0    1       1     1     10         7       NaN     10   \n",
      "3    1  1.0       0    1       1     1     10         7       NaN      5   \n",
      "4    1  1.0       0    1       1     1     10         7       NaN      7   \n",
      "\n",
      "    ...    attr3_3  sinc3_3  intel3_3  fun3_3  amb3_3  attr5_3  sinc5_3  \\\n",
      "0   ...        5.0      7.0       7.0     7.0     7.0      NaN      NaN   \n",
      "1   ...        5.0      7.0       7.0     7.0     7.0      NaN      NaN   \n",
      "2   ...        5.0      7.0       7.0     7.0     7.0      NaN      NaN   \n",
      "3   ...        5.0      7.0       7.0     7.0     7.0      NaN      NaN   \n",
      "4   ...        5.0      7.0       7.0     7.0     7.0      NaN      NaN   \n",
      "\n",
      "   intel5_3  fun5_3  amb5_3  \n",
      "0       NaN     NaN     NaN  \n",
      "1       NaN     NaN     NaN  \n",
      "2       NaN     NaN     NaN  \n",
      "3       NaN     NaN     NaN  \n",
      "4       NaN     NaN     NaN  \n",
      "\n",
      "[5 rows x 195 columns]\n"
     ]
    }
   ],
   "source": [
    "df = pd.read_csv(\"../desktop/Speed Dating Data.csv\") #import data\n",
    "#groupby subject id \n",
    "dfgrouped = df.groupby('iid') #groupby subject id \n",
    "print df.head()"
   ]
  },
  {
   "cell_type": "code",
   "execution_count": 14,
   "metadata": {
    "collapsed": false
   },
   "outputs": [],
   "source": [
    "men = df[df['gender'] == 1] #split gender \n",
    "women = df[df['gender'] == 0]\n",
    "women.fillna(value=0,inplace=True)\n",
    "men.fillna(value=0, inplace = True)"
   ]
  },
  {
   "cell_type": "code",
   "execution_count": 15,
   "metadata": {
    "collapsed": false
   },
   "outputs": [
    {
     "name": "stdout",
     "output_type": "stream",
     "text": [
      "      iid    id  gender  idg  condtn  wave  round  position  positin1  order  \\\n",
      "100    11   1.0       1    2       1     1     10         7       0.0      4   \n",
      "101    11   1.0       1    2       1     1     10         3       0.0     10   \n",
      "102    11   1.0       1    2       1     1     10         9       0.0      6   \n",
      "103    11   1.0       1    2       1     1     10         6       0.0      3   \n",
      "104    11   1.0       1    2       1     1     10         4       0.0      1   \n",
      "105    11   1.0       1    2       1     1     10         8       0.0      5   \n",
      "106    11   1.0       1    2       1     1     10         5       0.0      2   \n",
      "107    11   1.0       1    2       1     1     10        10       0.0      7   \n",
      "108    11   1.0       1    2       1     1     10         1       0.0      8   \n",
      "109    11   1.0       1    2       1     1     10         2       0.0      9   \n",
      "110    12   2.0       1    4       1     1     10         7       0.0      3   \n",
      "111    12   2.0       1    4       1     1     10         3       0.0      9   \n",
      "112    12   2.0       1    4       1     1     10         9       0.0      5   \n",
      "113    12   2.0       1    4       1     1     10         6       0.0      2   \n",
      "114    12   2.0       1    4       1     1     10         4       0.0     10   \n",
      "115    12   2.0       1    4       1     1     10         8       0.0      4   \n",
      "116    12   2.0       1    4       1     1     10         5       0.0      1   \n",
      "117    12   2.0       1    4       1     1     10        10       0.0      6   \n",
      "118    12   2.0       1    4       1     1     10         1       0.0      7   \n",
      "119    12   2.0       1    4       1     1     10         2       0.0      8   \n",
      "120    13   3.0       1    6       1     1     10         7       0.0     10   \n",
      "121    13   3.0       1    6       1     1     10         3       0.0      6   \n",
      "122    13   3.0       1    6       1     1     10         9       0.0      2   \n",
      "123    13   3.0       1    6       1     1     10         6       0.0      9   \n",
      "124    13   3.0       1    6       1     1     10         4       0.0      7   \n",
      "125    13   3.0       1    6       1     1     10         8       0.0      1   \n",
      "126    13   3.0       1    6       1     1     10         5       0.0      8   \n",
      "127    13   3.0       1    6       1     1     10        10       0.0      3   \n",
      "128    13   3.0       1    6       1     1     10         1       0.0      4   \n",
      "129    13   3.0       1    6       1     1     10         2       0.0      5   \n",
      "...   ...   ...     ...  ...     ...   ...    ...       ...       ...    ...   \n",
      "8348  551  21.0       1   42       2    21     22         5      21.0      7   \n",
      "8349  551  21.0       1   42       2    21     22        11      21.0     13   \n",
      "8350  551  21.0       1   42       2    21     22        17      21.0     19   \n",
      "8351  551  21.0       1   42       2    21     22        14      21.0     16   \n",
      "8352  551  21.0       1   42       2    21     22        13      21.0     15   \n",
      "8353  551  21.0       1   42       2    21     22        19      21.0     21   \n",
      "8354  551  21.0       1   42       2    21     22         3      21.0      5   \n",
      "8355  551  21.0       1   42       2    21     22         2      21.0      4   \n",
      "8356  552  22.0       1   44       2    21     22        21      10.0     12   \n",
      "8357  552  22.0       1   44       2    21     22        12      10.0      3   \n",
      "8358  552  22.0       1   44       2    21     22        15      10.0      6   \n",
      "8359  552  22.0       1   44       2    21     22         7      10.0     20   \n",
      "8360  552  22.0       1   44       2    21     22        22      10.0     13   \n",
      "8361  552  22.0       1   44       2    21     22        16      10.0      7   \n",
      "8362  552  22.0       1   44       2    21     22        10      10.0      1   \n",
      "8363  552  22.0       1   44       2    21     22        18      10.0      9   \n",
      "8364  552  22.0       1   44       2    21     22         1      10.0     14   \n",
      "8365  552  22.0       1   44       2    21     22         6      10.0     19   \n",
      "8366  552  22.0       1   44       2    21     22        20      10.0     11   \n",
      "8367  552  22.0       1   44       2    21     22         9      10.0     22   \n",
      "8368  552  22.0       1   44       2    21     22         8      10.0     21   \n",
      "8369  552  22.0       1   44       2    21     22         4      10.0     17   \n",
      "8370  552  22.0       1   44       2    21     22         5      10.0     18   \n",
      "8371  552  22.0       1   44       2    21     22        11      10.0      2   \n",
      "8372  552  22.0       1   44       2    21     22        17      10.0      8   \n",
      "8373  552  22.0       1   44       2    21     22        14      10.0      5   \n",
      "8374  552  22.0       1   44       2    21     22        13      10.0      4   \n",
      "8375  552  22.0       1   44       2    21     22        19      10.0     10   \n",
      "8376  552  22.0       1   44       2    21     22         3      10.0     16   \n",
      "8377  552   0.0       1   44       2    21     22         2      10.0     15   \n",
      "\n",
      "       ...    attr3_3  sinc3_3  intel3_3  fun3_3  amb3_3  attr5_3  sinc5_3  \\\n",
      "100    ...        7.0      8.0       7.0     7.0     5.0      0.0      0.0   \n",
      "101    ...        7.0      8.0       7.0     7.0     5.0      0.0      0.0   \n",
      "102    ...        7.0      8.0       7.0     7.0     5.0      0.0      0.0   \n",
      "103    ...        7.0      8.0       7.0     7.0     5.0      0.0      0.0   \n",
      "104    ...        7.0      8.0       7.0     7.0     5.0      0.0      0.0   \n",
      "105    ...        7.0      8.0       7.0     7.0     5.0      0.0      0.0   \n",
      "106    ...        7.0      8.0       7.0     7.0     5.0      0.0      0.0   \n",
      "107    ...        7.0      8.0       7.0     7.0     5.0      0.0      0.0   \n",
      "108    ...        7.0      8.0       7.0     7.0     5.0      0.0      0.0   \n",
      "109    ...        7.0      8.0       7.0     7.0     5.0      0.0      0.0   \n",
      "110    ...        0.0      0.0       0.0     0.0     0.0      0.0      0.0   \n",
      "111    ...        0.0      0.0       0.0     0.0     0.0      0.0      0.0   \n",
      "112    ...        0.0      0.0       0.0     0.0     0.0      0.0      0.0   \n",
      "113    ...        0.0      0.0       0.0     0.0     0.0      0.0      0.0   \n",
      "114    ...        0.0      0.0       0.0     0.0     0.0      0.0      0.0   \n",
      "115    ...        0.0      0.0       0.0     0.0     0.0      0.0      0.0   \n",
      "116    ...        0.0      0.0       0.0     0.0     0.0      0.0      0.0   \n",
      "117    ...        0.0      0.0       0.0     0.0     0.0      0.0      0.0   \n",
      "118    ...        0.0      0.0       0.0     0.0     0.0      0.0      0.0   \n",
      "119    ...        0.0      0.0       0.0     0.0     0.0      0.0      0.0   \n",
      "120    ...        0.0      0.0       0.0     0.0     0.0      0.0      0.0   \n",
      "121    ...        0.0      0.0       0.0     0.0     0.0      0.0      0.0   \n",
      "122    ...        0.0      0.0       0.0     0.0     0.0      0.0      0.0   \n",
      "123    ...        0.0      0.0       0.0     0.0     0.0      0.0      0.0   \n",
      "124    ...        0.0      0.0       0.0     0.0     0.0      0.0      0.0   \n",
      "125    ...        0.0      0.0       0.0     0.0     0.0      0.0      0.0   \n",
      "126    ...        0.0      0.0       0.0     0.0     0.0      0.0      0.0   \n",
      "127    ...        0.0      0.0       0.0     0.0     0.0      0.0      0.0   \n",
      "128    ...        0.0      0.0       0.0     0.0     0.0      0.0      0.0   \n",
      "129    ...        0.0      0.0       0.0     0.0     0.0      0.0      0.0   \n",
      "...    ...        ...      ...       ...     ...     ...      ...      ...   \n",
      "8348   ...        0.0      0.0       0.0     0.0     0.0      0.0      0.0   \n",
      "8349   ...        0.0      0.0       0.0     0.0     0.0      0.0      0.0   \n",
      "8350   ...        0.0      0.0       0.0     0.0     0.0      0.0      0.0   \n",
      "8351   ...        0.0      0.0       0.0     0.0     0.0      0.0      0.0   \n",
      "8352   ...        0.0      0.0       0.0     0.0     0.0      0.0      0.0   \n",
      "8353   ...        0.0      0.0       0.0     0.0     0.0      0.0      0.0   \n",
      "8354   ...        0.0      0.0       0.0     0.0     0.0      0.0      0.0   \n",
      "8355   ...        0.0      0.0       0.0     0.0     0.0      0.0      0.0   \n",
      "8356   ...        8.0      5.0       7.0     6.0     7.0      9.0      5.0   \n",
      "8357   ...        8.0      5.0       7.0     6.0     7.0      9.0      5.0   \n",
      "8358   ...        8.0      5.0       7.0     6.0     7.0      9.0      5.0   \n",
      "8359   ...        8.0      5.0       7.0     6.0     7.0      9.0      5.0   \n",
      "8360   ...        8.0      5.0       7.0     6.0     7.0      9.0      5.0   \n",
      "8361   ...        8.0      5.0       7.0     6.0     7.0      9.0      5.0   \n",
      "8362   ...        8.0      5.0       7.0     6.0     7.0      9.0      5.0   \n",
      "8363   ...        8.0      5.0       7.0     6.0     7.0      9.0      5.0   \n",
      "8364   ...        8.0      5.0       7.0     6.0     7.0      9.0      5.0   \n",
      "8365   ...        8.0      5.0       7.0     6.0     7.0      9.0      5.0   \n",
      "8366   ...        8.0      5.0       7.0     6.0     7.0      9.0      5.0   \n",
      "8367   ...        8.0      5.0       7.0     6.0     7.0      9.0      5.0   \n",
      "8368   ...        8.0      5.0       7.0     6.0     7.0      9.0      5.0   \n",
      "8369   ...        8.0      5.0       7.0     6.0     7.0      9.0      5.0   \n",
      "8370   ...        8.0      5.0       7.0     6.0     7.0      9.0      5.0   \n",
      "8371   ...        8.0      5.0       7.0     6.0     7.0      9.0      5.0   \n",
      "8372   ...        8.0      5.0       7.0     6.0     7.0      9.0      5.0   \n",
      "8373   ...        8.0      5.0       7.0     6.0     7.0      9.0      5.0   \n",
      "8374   ...        8.0      5.0       7.0     6.0     7.0      9.0      5.0   \n",
      "8375   ...        8.0      5.0       7.0     6.0     7.0      9.0      5.0   \n",
      "8376   ...        8.0      5.0       7.0     6.0     7.0      9.0      5.0   \n",
      "8377   ...        8.0      5.0       7.0     6.0     7.0      9.0      5.0   \n",
      "\n",
      "      intel5_3  fun5_3  amb5_3  \n",
      "100        0.0     0.0     0.0  \n",
      "101        0.0     0.0     0.0  \n",
      "102        0.0     0.0     0.0  \n",
      "103        0.0     0.0     0.0  \n",
      "104        0.0     0.0     0.0  \n",
      "105        0.0     0.0     0.0  \n",
      "106        0.0     0.0     0.0  \n",
      "107        0.0     0.0     0.0  \n",
      "108        0.0     0.0     0.0  \n",
      "109        0.0     0.0     0.0  \n",
      "110        0.0     0.0     0.0  \n",
      "111        0.0     0.0     0.0  \n",
      "112        0.0     0.0     0.0  \n",
      "113        0.0     0.0     0.0  \n",
      "114        0.0     0.0     0.0  \n",
      "115        0.0     0.0     0.0  \n",
      "116        0.0     0.0     0.0  \n",
      "117        0.0     0.0     0.0  \n",
      "118        0.0     0.0     0.0  \n",
      "119        0.0     0.0     0.0  \n",
      "120        0.0     0.0     0.0  \n",
      "121        0.0     0.0     0.0  \n",
      "122        0.0     0.0     0.0  \n",
      "123        0.0     0.0     0.0  \n",
      "124        0.0     0.0     0.0  \n",
      "125        0.0     0.0     0.0  \n",
      "126        0.0     0.0     0.0  \n",
      "127        0.0     0.0     0.0  \n",
      "128        0.0     0.0     0.0  \n",
      "129        0.0     0.0     0.0  \n",
      "...        ...     ...     ...  \n",
      "8348       0.0     0.0     0.0  \n",
      "8349       0.0     0.0     0.0  \n",
      "8350       0.0     0.0     0.0  \n",
      "8351       0.0     0.0     0.0  \n",
      "8352       0.0     0.0     0.0  \n",
      "8353       0.0     0.0     0.0  \n",
      "8354       0.0     0.0     0.0  \n",
      "8355       0.0     0.0     0.0  \n",
      "8356       9.0     5.0     6.0  \n",
      "8357       9.0     5.0     6.0  \n",
      "8358       9.0     5.0     6.0  \n",
      "8359       9.0     5.0     6.0  \n",
      "8360       9.0     5.0     6.0  \n",
      "8361       9.0     5.0     6.0  \n",
      "8362       9.0     5.0     6.0  \n",
      "8363       9.0     5.0     6.0  \n",
      "8364       9.0     5.0     6.0  \n",
      "8365       9.0     5.0     6.0  \n",
      "8366       9.0     5.0     6.0  \n",
      "8367       9.0     5.0     6.0  \n",
      "8368       9.0     5.0     6.0  \n",
      "8369       9.0     5.0     6.0  \n",
      "8370       9.0     5.0     6.0  \n",
      "8371       9.0     5.0     6.0  \n",
      "8372       9.0     5.0     6.0  \n",
      "8373       9.0     5.0     6.0  \n",
      "8374       9.0     5.0     6.0  \n",
      "8375       9.0     5.0     6.0  \n",
      "8376       9.0     5.0     6.0  \n",
      "8377       9.0     5.0     6.0  \n",
      "\n",
      "[4194 rows x 195 columns]\n"
     ]
    }
   ],
   "source": [
    "print men"
   ]
  },
  {
   "cell_type": "code",
   "execution_count": 16,
   "metadata": {
    "collapsed": true
   },
   "outputs": [],
   "source": [
    "input_vars = ['attr', 'sinc', 'intel', 'fun', 'amb', 'shar','race']"
   ]
  },
  {
   "cell_type": "code",
   "execution_count": 17,
   "metadata": {
    "collapsed": false
   },
   "outputs": [
    {
     "data": {
      "text/plain": [
       "<matplotlib.text.Text at 0x119e1d250>"
      ]
     },
     "execution_count": 17,
     "metadata": {},
     "output_type": "execute_result"
    },
    {
     "data": {
      "image/png": "[encoded data removed]",
      "text/plain": [
       "<matplotlib.figure.Figure at 0x113e28950>"
      ]
     },
     "metadata": {},
     "output_type": "display_data"
    }
   ],
   "source": [
    "matched_df = women[women['match']==1]\n",
    "matched_df_vars = matched_df[input_vars]\n",
    "histogram_data = matched_df_vars.sum(axis=0)\n",
    "sns.barplot(x=histogram_data.index, y=histogram_data,  palette=\"Greens_d\");\n",
    "sns.plt.title('Most Desirable Attributes in a Male Partner')"
   ]
  },
  {
   "cell_type": "code",
   "execution_count": 18,
   "metadata": {
    "collapsed": false
   },
   "outputs": [
    {
     "data": {
      "text/plain": [
       "<matplotlib.text.Text at 0x119aaee50>"
      ]
     },
     "execution_count": 18,
     "metadata": {},
     "output_type": "execute_result"
    },
    {
     "data": {
      "image/png": "[encoded data removed]",
      "text/plain": [
       "<matplotlib.figure.Figure at 0x119b6f350>"
      ]
     },
     "metadata": {},
     "output_type": "display_data"
    }
   ],
   "source": [
    "matched_df = men[men['match']==1]\n",
    "matched_df_vars = matched_df[input_vars]\n",
    "histogram_data = matched_df_vars.sum(axis=0)\n",
    "sns.barplot(x=histogram_data.index, y=histogram_data,  palette=\"Purples_d\");\n",
    "sns.plt.title('Most Desirable Attributes in a Female Partner')"
   ]
  },
  {
   "cell_type": "code",
   "execution_count": 19,
   "metadata": {
    "collapsed": false
   },
   "outputs": [
    {
     "data": {
      "text/html": [
       "<table class=\"simpletable\">\n",
       "<caption>OLS Regression Results</caption>\n",
       "<tr>\n",
       "  <th>Dep. Variable:</th>          <td>match</td>      <th>  R-squared:         </th> <td>   0.109</td> \n",
       "</tr>\n",
       "<tr>\n",
       "  <th>Model:</th>                   <td>OLS</td>       <th>  Adj. R-squared:    </th> <td>   0.108</td> \n",
       "</tr>\n",
       "<tr>\n",
       "  <th>Method:</th>             <td>Least Squares</td>  <th>  F-statistic:       </th> <td>   73.22</td> \n",
       "</tr>\n",
       "<tr>\n",
       "  <th>Date:</th>             <td>Thu, 01 Sep 2016</td> <th>  Prob (F-statistic):</th> <td>2.55e-100</td>\n",
       "</tr>\n",
       "<tr>\n",
       "  <th>Time:</th>                 <td>19:44:01</td>     <th>  Log-Likelihood:    </th> <td> -1547.2</td> \n",
       "</tr>\n",
       "<tr>\n",
       "  <th>No. Observations:</th>      <td>  4184</td>      <th>  AIC:               </th> <td>   3110.</td> \n",
       "</tr>\n",
       "<tr>\n",
       "  <th>Df Residuals:</th>          <td>  4176</td>      <th>  BIC:               </th> <td>   3161.</td> \n",
       "</tr>\n",
       "<tr>\n",
       "  <th>Df Model:</th>              <td>     7</td>      <th>                     </th>     <td> </td>    \n",
       "</tr>\n",
       "<tr>\n",
       "  <th>Covariance Type:</th>      <td>nonrobust</td>    <th>                     </th>     <td> </td>    \n",
       "</tr>\n",
       "</table>\n",
       "<table class=\"simpletable\">\n",
       "<tr>\n",
       "    <td></td>       <th>coef</th>     <th>std err</th>      <th>t</th>      <th>P>|t|</th> <th>[95.0% Conf. Int.]</th> \n",
       "</tr>\n",
       "<tr>\n",
       "  <th>const</th> <td>   -0.1669</td> <td>    0.025</td> <td>   -6.736</td> <td> 0.000</td> <td>   -0.215    -0.118</td>\n",
       "</tr>\n",
       "<tr>\n",
       "  <th>attr</th>  <td>    0.0224</td> <td>    0.003</td> <td>    6.758</td> <td> 0.000</td> <td>    0.016     0.029</td>\n",
       "</tr>\n",
       "<tr>\n",
       "  <th>sinc</th>  <td>    0.0006</td> <td>    0.004</td> <td>    0.182</td> <td> 0.855</td> <td>   -0.006     0.008</td>\n",
       "</tr>\n",
       "<tr>\n",
       "  <th>intel</th> <td>    0.0040</td> <td>    0.004</td> <td>    1.017</td> <td> 0.309</td> <td>   -0.004     0.012</td>\n",
       "</tr>\n",
       "<tr>\n",
       "  <th>fun</th>   <td>    0.0259</td> <td>    0.003</td> <td>    7.766</td> <td> 0.000</td> <td>    0.019     0.032</td>\n",
       "</tr>\n",
       "<tr>\n",
       "  <th>amb</th>   <td>   -0.0110</td> <td>    0.003</td> <td>   -4.186</td> <td> 0.000</td> <td>   -0.016    -0.006</td>\n",
       "</tr>\n",
       "<tr>\n",
       "  <th>shar</th>  <td>    0.0159</td> <td>    0.002</td> <td>    6.558</td> <td> 0.000</td> <td>    0.011     0.021</td>\n",
       "</tr>\n",
       "<tr>\n",
       "  <th>race</th>  <td>    0.0035</td> <td>    0.004</td> <td>    0.806</td> <td> 0.420</td> <td>   -0.005     0.012</td>\n",
       "</tr>\n",
       "</table>\n",
       "<table class=\"simpletable\">\n",
       "<tr>\n",
       "  <th>Omnibus:</th>       <td>920.289</td> <th>  Durbin-Watson:     </th> <td>   1.813</td>\n",
       "</tr>\n",
       "<tr>\n",
       "  <th>Prob(Omnibus):</th> <td> 0.000</td>  <th>  Jarque-Bera (JB):  </th> <td>1639.392</td>\n",
       "</tr>\n",
       "<tr>\n",
       "  <th>Skew:</th>          <td> 1.481</td>  <th>  Prob(JB):          </th> <td>    0.00</td>\n",
       "</tr>\n",
       "<tr>\n",
       "  <th>Kurtosis:</th>      <td> 3.794</td>  <th>  Cond. No.          </th> <td>    73.8</td>\n",
       "</tr>\n",
       "</table>"
      ],
      "text/plain": [
       "<class 'statsmodels.iolib.summary.Summary'>\n",
       "\"\"\"\n",
       "                            OLS Regression Results                            \n",
       "==============================================================================\n",
       "Dep. Variable:                  match   R-squared:                       0.109\n",
       "Model:                            OLS   Adj. R-squared:                  0.108\n",
       "Method:                 Least Squares   F-statistic:                     73.22\n",
       "Date:                Thu, 01 Sep 2016   Prob (F-statistic):          2.55e-100\n",
       "Time:                        19:44:01   Log-Likelihood:                -1547.2\n",
       "No. Observations:                4184   AIC:                             3110.\n",
       "Df Residuals:                    4176   BIC:                             3161.\n",
       "Df Model:                           7                                         \n",
       "Covariance Type:            nonrobust                                         \n",
       "==============================================================================\n",
       "                 coef    std err          t      P>|t|      [95.0% Conf. Int.]\n",
       "------------------------------------------------------------------------------\n",
       "const         -0.1669      0.025     -6.736      0.000        -0.215    -0.118\n",
       "attr           0.0224      0.003      6.758      0.000         0.016     0.029\n",
       "sinc           0.0006      0.004      0.182      0.855        -0.006     0.008\n",
       "intel          0.0040      0.004      1.017      0.309        -0.004     0.012\n",
       "fun            0.0259      0.003      7.766      0.000         0.019     0.032\n",
       "amb           -0.0110      0.003     -4.186      0.000        -0.016    -0.006\n",
       "shar           0.0159      0.002      6.558      0.000         0.011     0.021\n",
       "race           0.0035      0.004      0.806      0.420        -0.005     0.012\n",
       "==============================================================================\n",
       "Omnibus:                      920.289   Durbin-Watson:                   1.813\n",
       "Prob(Omnibus):                  0.000   Jarque-Bera (JB):             1639.392\n",
       "Skew:                           1.481   Prob(JB):                         0.00\n",
       "Kurtosis:                       3.794   Cond. No.                         73.8\n",
       "==============================================================================\n",
       "\n",
       "Warnings:\n",
       "[1] Standard Errors assume that the covariance matrix of the errors is correctly specified.\n",
       "\"\"\""
      ]
     },
     "execution_count": 19,
     "metadata": {},
     "output_type": "execute_result"
    }
   ],
   "source": [
    "#sklearn\n",
    "\n",
    "#model by gender (women)\n",
    "#women_clean = women[input_vars]\n",
    "\n",
    "#women_clean.head()\n",
    "x = women[input_vars]\n",
    "x = sm.add_constant(x)\n",
    "y = women.match\n",
    "female_model = sm.OLS(y,x)\n",
    "female_results = female_model.fit()\n",
    "female_results.summary()"
   ]
  },
  {
   "cell_type": "code",
   "execution_count": 20,
   "metadata": {
    "collapsed": false
   },
   "outputs": [
    {
     "name": "stdout",
     "output_type": "stream",
     "text": [
      "              0         1\n",
      "const -0.215415 -0.118286\n",
      "attr   0.015876  0.028853\n",
      "sinc  -0.006299  0.007591\n",
      "intel -0.003749  0.011835\n",
      "fun    0.019348  0.032415\n",
      "amb   -0.016197 -0.005865\n",
      "shar   0.011131  0.020626\n",
      "race  -0.005027  0.012050\n"
     ]
    }
   ],
   "source": [
    "print female_results.conf_int()"
   ]
  },
  {
   "cell_type": "code",
   "execution_count": 21,
   "metadata": {
    "collapsed": false
   },
   "outputs": [
    {
     "name": "stdout",
     "output_type": "stream",
     "text": [
      "const    0.846326\n",
      "attr     1.022617\n",
      "sinc     1.000647\n",
      "intel    1.004051\n",
      "fun      1.026219\n",
      "amb      0.989029\n",
      "shar     1.016005\n",
      "race     1.003518\n",
      "dtype: float64\n"
     ]
    }
   ],
   "source": [
    "print np.exp(female_results.params)"
   ]
  },
  {
   "cell_type": "code",
   "execution_count": 51,
   "metadata": {
    "collapsed": false
   },
   "outputs": [
    {
     "data": {
      "text/html": [
       "<table class=\"simpletable\">\n",
       "<caption>OLS Regression Results</caption>\n",
       "<tr>\n",
       "  <th>Dep. Variable:</th>          <td>match</td>      <th>  R-squared:         </th> <td>   0.089</td>\n",
       "</tr>\n",
       "<tr>\n",
       "  <th>Model:</th>                   <td>OLS</td>       <th>  Adj. R-squared:    </th> <td>   0.087</td>\n",
       "</tr>\n",
       "<tr>\n",
       "  <th>Method:</th>             <td>Least Squares</td>  <th>  F-statistic:       </th> <td>   58.19</td>\n",
       "</tr>\n",
       "<tr>\n",
       "  <th>Date:</th>             <td>Thu, 01 Sep 2016</td> <th>  Prob (F-statistic):</th> <td>5.63e-80</td>\n",
       "</tr>\n",
       "<tr>\n",
       "  <th>Time:</th>                 <td>20:11:55</td>     <th>  Log-Likelihood:    </th> <td> -1594.9</td>\n",
       "</tr>\n",
       "<tr>\n",
       "  <th>No. Observations:</th>      <td>  4194</td>      <th>  AIC:               </th> <td>   3206.</td>\n",
       "</tr>\n",
       "<tr>\n",
       "  <th>Df Residuals:</th>          <td>  4186</td>      <th>  BIC:               </th> <td>   3256.</td>\n",
       "</tr>\n",
       "<tr>\n",
       "  <th>Df Model:</th>              <td>     7</td>      <th>                     </th>     <td> </td>   \n",
       "</tr>\n",
       "<tr>\n",
       "  <th>Covariance Type:</th>      <td>nonrobust</td>    <th>                     </th>     <td> </td>   \n",
       "</tr>\n",
       "</table>\n",
       "<table class=\"simpletable\">\n",
       "<tr>\n",
       "    <td></td>       <th>coef</th>     <th>std err</th>      <th>t</th>      <th>P>|t|</th> <th>[95.0% Conf. Int.]</th> \n",
       "</tr>\n",
       "<tr>\n",
       "  <th>const</th> <td>   -0.1201</td> <td>    0.025</td> <td>   -4.848</td> <td> 0.000</td> <td>   -0.169    -0.072</td>\n",
       "</tr>\n",
       "<tr>\n",
       "  <th>attr</th>  <td>    0.0302</td> <td>    0.003</td> <td>    8.867</td> <td> 0.000</td> <td>    0.024     0.037</td>\n",
       "</tr>\n",
       "<tr>\n",
       "  <th>sinc</th>  <td>   -0.0024</td> <td>    0.004</td> <td>   -0.612</td> <td> 0.540</td> <td>   -0.010     0.005</td>\n",
       "</tr>\n",
       "<tr>\n",
       "  <th>intel</th> <td>   -0.0038</td> <td>    0.004</td> <td>   -0.882</td> <td> 0.378</td> <td>   -0.012     0.005</td>\n",
       "</tr>\n",
       "<tr>\n",
       "  <th>fun</th>   <td>    0.0206</td> <td>    0.004</td> <td>    5.660</td> <td> 0.000</td> <td>    0.013     0.028</td>\n",
       "</tr>\n",
       "<tr>\n",
       "  <th>amb</th>   <td>   -0.0026</td> <td>    0.003</td> <td>   -0.890</td> <td> 0.374</td> <td>   -0.008     0.003</td>\n",
       "</tr>\n",
       "<tr>\n",
       "  <th>shar</th>  <td>    0.0141</td> <td>    0.003</td> <td>    5.562</td> <td> 0.000</td> <td>    0.009     0.019</td>\n",
       "</tr>\n",
       "<tr>\n",
       "  <th>race</th>  <td>   -0.0165</td> <td>    0.004</td> <td>   -3.744</td> <td> 0.000</td> <td>   -0.025    -0.008</td>\n",
       "</tr>\n",
       "</table>\n",
       "<table class=\"simpletable\">\n",
       "<tr>\n",
       "  <th>Omnibus:</th>       <td>975.997</td> <th>  Durbin-Watson:     </th> <td>   1.843</td>\n",
       "</tr>\n",
       "<tr>\n",
       "  <th>Prob(Omnibus):</th> <td> 0.000</td>  <th>  Jarque-Bera (JB):  </th> <td>1792.035</td>\n",
       "</tr>\n",
       "<tr>\n",
       "  <th>Skew:</th>          <td> 1.539</td>  <th>  Prob(JB):          </th> <td>    0.00</td>\n",
       "</tr>\n",
       "<tr>\n",
       "  <th>Kurtosis:</th>      <td> 3.881</td>  <th>  Cond. No.          </th> <td>    73.8</td>\n",
       "</tr>\n",
       "</table>"
      ],
      "text/plain": [
       "<class 'statsmodels.iolib.summary.Summary'>\n",
       "\"\"\"\n",
       "                            OLS Regression Results                            \n",
       "==============================================================================\n",
       "Dep. Variable:                  match   R-squared:                       0.089\n",
       "Model:                            OLS   Adj. R-squared:                  0.087\n",
       "Method:                 Least Squares   F-statistic:                     58.19\n",
       "Date:                Thu, 01 Sep 2016   Prob (F-statistic):           5.63e-80\n",
       "Time:                        20:11:55   Log-Likelihood:                -1594.9\n",
       "No. Observations:                4194   AIC:                             3206.\n",
       "Df Residuals:                    4186   BIC:                             3256.\n",
       "Df Model:                           7                                         \n",
       "Covariance Type:            nonrobust                                         \n",
       "==============================================================================\n",
       "                 coef    std err          t      P>|t|      [95.0% Conf. Int.]\n",
       "------------------------------------------------------------------------------\n",
       "const         -0.1201      0.025     -4.848      0.000        -0.169    -0.072\n",
       "attr           0.0302      0.003      8.867      0.000         0.024     0.037\n",
       "sinc          -0.0024      0.004     -0.612      0.540        -0.010     0.005\n",
       "intel         -0.0038      0.004     -0.882      0.378        -0.012     0.005\n",
       "fun            0.0206      0.004      5.660      0.000         0.013     0.028\n",
       "amb           -0.0026      0.003     -0.890      0.374        -0.008     0.003\n",
       "shar           0.0141      0.003      5.562      0.000         0.009     0.019\n",
       "race          -0.0165      0.004     -3.744      0.000        -0.025    -0.008\n",
       "==============================================================================\n",
       "Omnibus:                      975.997   Durbin-Watson:                   1.843\n",
       "Prob(Omnibus):                  0.000   Jarque-Bera (JB):             1792.035\n",
       "Skew:                           1.539   Prob(JB):                         0.00\n",
       "Kurtosis:                       3.881   Cond. No.                         73.8\n",
       "==============================================================================\n",
       "\n",
       "Warnings:\n",
       "[1] Standard Errors assume that the covariance matrix of the errors is correctly specified.\n",
       "\"\"\""
      ]
     },
     "execution_count": 51,
     "metadata": {},
     "output_type": "execute_result"
    }
   ],
   "source": [
    "x = men[input_vars]\n",
    "x = sm.add_constant(x)\n",
    "y = men.match\n",
    "male_model = sm.OLS(y,x)\n",
    "male_results = male_model.fit()\n",
    "male_results.summary()"
   ]
  },
  {
   "cell_type": "markdown",
   "metadata": {
    "collapsed": true
   },
   "source": [
    "These results indicate that men and women are seeking similar attributes in a partner: sincerity, intelligence, and a sense of humour rank hightest for both. The most statistically significant coefficients with p-values of 0.00 are attractiveness, sense of humour, ambition, and shared interests (true for both men and women). "
   ]
  },
  {
   "cell_type": "code",
   "execution_count": 23,
   "metadata": {
    "collapsed": false
   },
   "outputs": [
    {
     "data": {
      "text/plain": [
       "<matplotlib.axes._subplots.AxesSubplot at 0x11bea7190>"
      ]
     },
     "execution_count": 23,
     "metadata": {},
     "output_type": "execute_result"
    },
    {
     "data": {
      "image/png": "[encoded data removed]",
      "text/plain": [
       "<matplotlib.figure.Figure at 0x113e73e10>"
      ]
     },
     "metadata": {},
     "output_type": "display_data"
    }
   ],
   "source": [
    "sns.barplot(x=\"attr1_1\", data=df); #importance of attractiveness in a partner\n",
    "#transform df group as self/other\n",
    "#.stack()"
   ]
  },
  {
   "cell_type": "code",
   "execution_count": 24,
   "metadata": {
    "collapsed": false
   },
   "outputs": [
    {
     "data": {
      "text/plain": [
       "<matplotlib.axes._subplots.AxesSubplot at 0x11beb9990>"
      ]
     },
     "execution_count": 24,
     "metadata": {},
     "output_type": "execute_result"
    },
    {
     "data": {
      "image/png": "[encoded data removed]",
      "text/plain": [
       "<matplotlib.figure.Figure at 0x11becbc90>"
      ]
     },
     "metadata": {},
     "output_type": "display_data"
    }
   ],
   "source": [
    "attractiveness = df[['attr1_1','attr4_1']] ##keep this one \n",
    "\n",
    "attractiveness = attractiveness.apply(lambda x : x.fillna(x.mean())).stack().reset_index(-1)\n",
    "attractiveness.columns = ['category', 'value']\n",
    "sns.barplot (x= 'category', y= 'value',data= attractiveness)\n"
   ]
  },
  {
   "cell_type": "code",
   "execution_count": 25,
   "metadata": {
    "collapsed": false
   },
   "outputs": [
    {
     "data": {
      "image/png": "[encoded data removed]",
      "text/plain": [
       "<matplotlib.figure.Figure at 0x11bec3cd0>"
      ]
     },
     "metadata": {},
     "output_type": "display_data"
    }
   ],
   "source": [
    "sns.barplot(x=\"attr4_1\", data=df); #how important subject's think attractiveness is to others "
   ]
  },
  {
   "cell_type": "markdown",
   "metadata": {},
   "source": [
    "These results indicate that subjects believe attractiveness to be more important than it actually is on average for their dates. "
   ]
  },
  {
   "cell_type": "code",
   "execution_count": 26,
   "metadata": {
    "collapsed": true
   },
   "outputs": [],
   "source": [
    "race_sharedinterests = ['race', 'shar']"
   ]
  },
  {
   "cell_type": "code",
   "execution_count": 27,
   "metadata": {
    "collapsed": false
   },
   "outputs": [
    {
     "data": {
      "text/plain": [
       "<matplotlib.text.Text at 0x11ed2d2d0>"
      ]
     },
     "execution_count": 27,
     "metadata": {},
     "output_type": "execute_result"
    },
    {
     "data": {
      "image/png": "[encoded data removed]",
      "text/plain": [
       "<matplotlib.figure.Figure at 0x11d155a10>"
      ]
     },
     "metadata": {},
     "output_type": "display_data"
    }
   ],
   "source": [
    "matched_df1 = women[women['match']==1]\n",
    "matched_df_vars1 = matched_df1[race_sharedinterests]\n",
    "histogram_data = matched_df_vars1.sum(axis=0)\n",
    "sns.barplot(x=histogram_data.index, y=histogram_data,  palette=\"Greens_d\");\n",
    "sns.plt.title('The Importance of Shared Interest vs. Race for Women')"
   ]
  },
  {
   "cell_type": "code",
   "execution_count": 28,
   "metadata": {
    "collapsed": false
   },
   "outputs": [
    {
     "data": {
      "text/plain": [
       "<matplotlib.text.Text at 0x11eebd790>"
      ]
     },
     "execution_count": 28,
     "metadata": {},
     "output_type": "execute_result"
    },
    {
     "data": {
      "image/png": "[encoded data removed]",
      "text/plain": [
       "<matplotlib.figure.Figure at 0x119e00490>"
      ]
     },
     "metadata": {},
     "output_type": "display_data"
    }
   ],
   "source": [
    "matched_df1 = men[men['match']==1]\n",
    "matched_df_vars1 = matched_df1[race_sharedinterests]\n",
    "histogram_data = matched_df_vars1.sum(axis=0)\n",
    "sns.barplot(x=histogram_data.index, y=histogram_data,  palette=\"Purples_d\");\n",
    "sns.plt.title('Most Desirable Attributes in a Female Partner')"
   ]
  },
  {
   "cell_type": "markdown",
   "metadata": {},
   "source": [
    "These results indicate that both men and women are significantly more interested in having shared interests with their date than their date's racial background. "
   ]
  },
  {
   "cell_type": "code",
   "execution_count": 29,
   "metadata": {
    "collapsed": true
   },
   "outputs": [],
   "source": [
    "attractive_percieved_real = ['attr1_1','attr4_1']"
   ]
  },
  {
   "cell_type": "code",
   "execution_count": 30,
   "metadata": {
    "collapsed": false
   },
   "outputs": [
    {
     "ename": "AttributeError",
     "evalue": "'list' object has no attribute 'sum'",
     "output_type": "error",
     "traceback": [
      "\u001b[0;31m---------------------------------------------------------------------------\u001b[0m",
      "\u001b[0;31mAttributeError\u001b[0m                            Traceback (most recent call last)",
      "\u001b[0;32m<ipython-input-30-a85194dbaf37>\u001b[0m in \u001b[0;36m<module>\u001b[0;34m()\u001b[0m\n\u001b[0;32m----> 1\u001b[0;31m \u001b[0mhistogram_data1\u001b[0m \u001b[0;34m=\u001b[0m \u001b[0mattractive_percieved_real\u001b[0m\u001b[0;34m.\u001b[0m\u001b[0msum\u001b[0m\u001b[0;34m(\u001b[0m\u001b[0maxis\u001b[0m\u001b[0;34m=\u001b[0m\u001b[0;36m0\u001b[0m\u001b[0;34m)\u001b[0m\u001b[0;34m\u001b[0m\u001b[0m\n\u001b[0m\u001b[1;32m      2\u001b[0m \u001b[0msns\u001b[0m\u001b[0;34m.\u001b[0m\u001b[0mbarplot\u001b[0m\u001b[0;34m(\u001b[0m\u001b[0mx\u001b[0m \u001b[0;34m=\u001b[0m \u001b[0mhistogram_data1\u001b[0m\u001b[0;34m.\u001b[0m\u001b[0mindex\u001b[0m\u001b[0;34m,\u001b[0m \u001b[0my\u001b[0m \u001b[0;34m=\u001b[0m \u001b[0mhistogram_data1\u001b[0m\u001b[0;34m,\u001b[0m \u001b[0mpalette\u001b[0m\u001b[0;34m=\u001b[0m\u001b[0;34m\"Reds_d\"\u001b[0m\u001b[0;34m)\u001b[0m\u001b[0;34m\u001b[0m\u001b[0m\n",
      "\u001b[0;31mAttributeError\u001b[0m: 'list' object has no attribute 'sum'"
     ]
    }
   ],
   "source": [
    "#histogram_data1 = attractive_percieved_real.sum(axis=0)\n",
    "#sns.barplot(x = histogram_data1.index, y = histogram_data1, palette=\"Reds_d\")"
   ]
  },
  {
   "cell_type": "code",
   "execution_count": 31,
   "metadata": {
    "collapsed": false
   },
   "outputs": [
    {
     "ename": "SyntaxError",
     "evalue": "invalid syntax (<ipython-input-31-5e4102d5413a>, line 23)",
     "output_type": "error",
     "traceback": [
      "\u001b[0;36m  File \u001b[0;32m\"<ipython-input-31-5e4102d5413a>\"\u001b[0;36m, line \u001b[0;32m23\u001b[0m\n\u001b[0;31m    3from collections import Counter\u001b[0m\n\u001b[0m        ^\u001b[0m\n\u001b[0;31mSyntaxError\u001b[0m\u001b[0;31m:\u001b[0m invalid syntax\n"
     ]
    }
   ],
   "source": [
    "inputvariables = ['race','match']\n",
    "samerace = dfgrouped[dfgrouped['samerace'] == 1]\n",
    "differentrace = dfgrouped[dfgrouped['samerace'] == 0]\n",
    "matched_df12 = samerace[samerace['match']==1]\n",
    "matched_df_vars12 = matched_df12[inputvariables]\n",
    "histogram_data1 = matched_df_vars12.sum(axis=0)\n",
    "sns.barplot(x=histogram_data1.index, y=histogram_data1,  palette=\"Purples_d\");\n",
    "\n",
    "\n",
    "#race = df[['samerace']==1, ['samerace'==0]]\n",
    "#race = race.apply(lambda x : x.fillna(x.mean())).stack().reset_index(-1)\n",
    "#race.columns = ['category', 'value']\n",
    "#sns.barplot (x= 'category', y= 'value',data= race)\n",
    "#samerace = df[df['samerace'] == 1]\n",
    "#differentrace = df[df['samerace']==0]#split race \n",
    "#results_race = ['samerace', 'different race']\n",
    "#match= df[df['match']==1]\n",
    "#sns.barplot(x = samerace, y= match, df=samerace)\n",
    "#sns.factorplot(x=\"samerace\", y=\"match\", data=samerace, kind=\"bar\");\n",
    "#sns.factorplot(x=\"differentrace\", y=\"match\", data=differentrace, kind=\"bar\");\n",
    "\n",
    "import matplotlib.pyplot as plt\n",
    "3from collections import Counter\n",
    "\n",
    "plt.show()"
   ]
  },
  {
   "cell_type": "code",
   "execution_count": 32,
   "metadata": {
    "collapsed": false
   },
   "outputs": [
    {
     "ename": "NameError",
     "evalue": "name 'inputvariables' is not defined",
     "output_type": "error",
     "traceback": [
      "\u001b[0;31m---------------------------------------------------------------------------\u001b[0m",
      "\u001b[0;31mNameError\u001b[0m                                 Traceback (most recent call last)",
      "\u001b[0;32m<ipython-input-32-c4055c1df50c>\u001b[0m in \u001b[0;36m<module>\u001b[0;34m()\u001b[0m\n\u001b[1;32m      2\u001b[0m \u001b[0mdifferentrace\u001b[0m \u001b[0;34m=\u001b[0m \u001b[0mdf\u001b[0m\u001b[0;34m[\u001b[0m\u001b[0mdf\u001b[0m\u001b[0;34m[\u001b[0m\u001b[0;34m'samerace'\u001b[0m\u001b[0;34m]\u001b[0m \u001b[0;34m==\u001b[0m \u001b[0;36m0\u001b[0m\u001b[0;34m]\u001b[0m\u001b[0;34m\u001b[0m\u001b[0m\n\u001b[1;32m      3\u001b[0m \u001b[0mmatched_df12\u001b[0m \u001b[0;34m=\u001b[0m \u001b[0msamerace\u001b[0m\u001b[0;34m[\u001b[0m\u001b[0msamerace\u001b[0m\u001b[0;34m[\u001b[0m\u001b[0;34m'match'\u001b[0m\u001b[0;34m]\u001b[0m\u001b[0;34m==\u001b[0m\u001b[0;36m1\u001b[0m\u001b[0;34m]\u001b[0m\u001b[0;34m\u001b[0m\u001b[0m\n\u001b[0;32m----> 4\u001b[0;31m \u001b[0mmatched_df_vars12\u001b[0m \u001b[0;34m=\u001b[0m \u001b[0mmatched_df12\u001b[0m\u001b[0;34m[\u001b[0m\u001b[0minputvariables\u001b[0m\u001b[0;34m]\u001b[0m\u001b[0;34m\u001b[0m\u001b[0m\n\u001b[0m\u001b[1;32m      5\u001b[0m \u001b[0mhistogram_data1\u001b[0m \u001b[0;34m=\u001b[0m \u001b[0mmatched_df_vars12\u001b[0m\u001b[0;34m.\u001b[0m\u001b[0msum\u001b[0m\u001b[0;34m(\u001b[0m\u001b[0maxis\u001b[0m\u001b[0;34m=\u001b[0m\u001b[0;36m0\u001b[0m\u001b[0;34m)\u001b[0m\u001b[0;34m\u001b[0m\u001b[0m\n\u001b[1;32m      6\u001b[0m \u001b[0msns\u001b[0m\u001b[0;34m.\u001b[0m\u001b[0mbarplot\u001b[0m\u001b[0;34m(\u001b[0m\u001b[0mx\u001b[0m\u001b[0;34m=\u001b[0m\u001b[0mhistogram_data1\u001b[0m\u001b[0;34m.\u001b[0m\u001b[0mindex\u001b[0m\u001b[0;34m,\u001b[0m \u001b[0my\u001b[0m\u001b[0;34m=\u001b[0m\u001b[0mhistogram_data1\u001b[0m\u001b[0;34m,\u001b[0m  \u001b[0mpalette\u001b[0m\u001b[0;34m=\u001b[0m\u001b[0;34m\"Purples_d\"\u001b[0m\u001b[0;34m)\u001b[0m\u001b[0;34m;\u001b[0m\u001b[0;34m\u001b[0m\u001b[0m\n",
      "\u001b[0;31mNameError\u001b[0m: name 'inputvariables' is not defined"
     ]
    }
   ],
   "source": [
    "samerace = df[df['samerace'] == 1]\n",
    "differentrace = df[df['samerace'] == 0]\n",
    "matched_df12 = samerace[samerace['match']==1]\n",
    "matched_df_vars12 = matched_df12[inputvariables]\n",
    "histogram_data1 = matched_df_vars12.sum(axis=0)\n",
    "sns.barplot(x=histogram_data1.index, y=histogram_data1,  palette=\"Purples_d\");\n",
    "matched_df12.sum()"
   ]
  },
  {
   "cell_type": "code",
   "execution_count": 33,
   "metadata": {
    "collapsed": false
   },
   "outputs": [
    {
     "ename": "SyntaxError",
     "evalue": "invalid syntax (<ipython-input-33-03ac9982b1c2>, line 5)",
     "output_type": "error",
     "traceback": [
      "\u001b[0;36m  File \u001b[0;32m\"<ipython-input-33-03ac9982b1c2>\"\u001b[0;36m, line \u001b[0;32m5\u001b[0m\n\u001b[0;31m    \u001b[0m\n\u001b[0m    ^\u001b[0m\n\u001b[0;31mSyntaxError\u001b[0m\u001b[0;31m:\u001b[0m invalid syntax\n"
     ]
    }
   ],
   "source": [
    "keep_cols = ['iid','match','samerace','gender']\n",
    "df_race = df[keep_cols]\n",
    "samerace = df_race[df_race['samerace']==0]\n",
    "matched_samerace = samerace[samerace[['match']==1\n",
    "                            \n",
    "\n"
   ]
  },
  {
   "cell_type": "code",
   "execution_count": 34,
   "metadata": {
    "collapsed": false
   },
   "outputs": [
    {
     "ename": "ValueError",
     "evalue": "cannot copy sequence with size 3 to array axis with dimension 5062",
     "output_type": "error",
     "traceback": [
      "\u001b[0;31m---------------------------------------------------------------------------\u001b[0m",
      "\u001b[0;31mValueError\u001b[0m                                Traceback (most recent call last)",
      "\u001b[0;32m<ipython-input-34-c2c288c362c1>\u001b[0m in \u001b[0;36m<module>\u001b[0;34m()\u001b[0m\n\u001b[1;32m      4\u001b[0m \u001b[0mmatched_samerace\u001b[0m \u001b[0;34m=\u001b[0m \u001b[0msamerace\u001b[0m\u001b[0;34m[\u001b[0m\u001b[0msamerace\u001b[0m\u001b[0;34m[\u001b[0m\u001b[0;34m'match'\u001b[0m\u001b[0;34m]\u001b[0m\u001b[0;34m==\u001b[0m\u001b[0;36m1\u001b[0m\u001b[0;34m]\u001b[0m\u001b[0;34m\u001b[0m\u001b[0m\n\u001b[1;32m      5\u001b[0m \u001b[0;34m\u001b[0m\u001b[0m\n\u001b[0;32m----> 6\u001b[0;31m \u001b[0msns\u001b[0m\u001b[0;34m.\u001b[0m\u001b[0mbarplot\u001b[0m\u001b[0;34m(\u001b[0m\u001b[0mx\u001b[0m \u001b[0;34m=\u001b[0m \u001b[0msamerace\u001b[0m\u001b[0;34m,\u001b[0m \u001b[0my\u001b[0m \u001b[0;34m=\u001b[0m \u001b[0mmatched_samerace\u001b[0m\u001b[0;34m,\u001b[0m \u001b[0mpalette\u001b[0m\u001b[0;34m=\u001b[0m\u001b[0;34m\"Reds_d\"\u001b[0m\u001b[0;34m)\u001b[0m\u001b[0;34m\u001b[0m\u001b[0m\n\u001b[0m",
      "\u001b[0;32m//anaconda/lib/python2.7/site-packages/seaborn/categorical.pyc\u001b[0m in \u001b[0;36mbarplot\u001b[0;34m(x, y, hue, data, order, hue_order, estimator, ci, n_boot, units, orient, color, palette, saturation, errcolor, ax, **kwargs)\u001b[0m\n\u001b[1;32m   2851\u001b[0m                           \u001b[0mestimator\u001b[0m\u001b[0;34m,\u001b[0m \u001b[0mci\u001b[0m\u001b[0;34m,\u001b[0m \u001b[0mn_boot\u001b[0m\u001b[0;34m,\u001b[0m \u001b[0munits\u001b[0m\u001b[0;34m,\u001b[0m\u001b[0;34m\u001b[0m\u001b[0m\n\u001b[1;32m   2852\u001b[0m                           \u001b[0morient\u001b[0m\u001b[0;34m,\u001b[0m \u001b[0mcolor\u001b[0m\u001b[0;34m,\u001b[0m \u001b[0mpalette\u001b[0m\u001b[0;34m,\u001b[0m \u001b[0msaturation\u001b[0m\u001b[0;34m,\u001b[0m\u001b[0;34m\u001b[0m\u001b[0m\n\u001b[0;32m-> 2853\u001b[0;31m                           errcolor)\n\u001b[0m\u001b[1;32m   2854\u001b[0m \u001b[0;34m\u001b[0m\u001b[0m\n\u001b[1;32m   2855\u001b[0m     \u001b[0;32mif\u001b[0m \u001b[0max\u001b[0m \u001b[0;32mis\u001b[0m \u001b[0mNone\u001b[0m\u001b[0;34m:\u001b[0m\u001b[0;34m\u001b[0m\u001b[0m\n",
      "\u001b[0;32m//anaconda/lib/python2.7/site-packages/seaborn/categorical.pyc\u001b[0m in \u001b[0;36m__init__\u001b[0;34m(self, x, y, hue, data, order, hue_order, estimator, ci, n_boot, units, orient, color, palette, saturation, errcolor)\u001b[0m\n\u001b[1;32m   1519\u001b[0m         \u001b[0;34m\"\"\"Initialize the plotter.\"\"\"\u001b[0m\u001b[0;34m\u001b[0m\u001b[0m\n\u001b[1;32m   1520\u001b[0m         self.establish_variables(x, y, hue, data, orient,\n\u001b[0;32m-> 1521\u001b[0;31m                                  order, hue_order, units)\n\u001b[0m\u001b[1;32m   1522\u001b[0m         \u001b[0mself\u001b[0m\u001b[0;34m.\u001b[0m\u001b[0mestablish_colors\u001b[0m\u001b[0;34m(\u001b[0m\u001b[0mcolor\u001b[0m\u001b[0;34m,\u001b[0m \u001b[0mpalette\u001b[0m\u001b[0;34m,\u001b[0m \u001b[0msaturation\u001b[0m\u001b[0;34m)\u001b[0m\u001b[0;34m\u001b[0m\u001b[0m\n\u001b[1;32m   1523\u001b[0m         \u001b[0mself\u001b[0m\u001b[0;34m.\u001b[0m\u001b[0mestimate_statistic\u001b[0m\u001b[0;34m(\u001b[0m\u001b[0mestimator\u001b[0m\u001b[0;34m,\u001b[0m \u001b[0mci\u001b[0m\u001b[0;34m,\u001b[0m \u001b[0mn_boot\u001b[0m\u001b[0;34m)\u001b[0m\u001b[0;34m\u001b[0m\u001b[0m\n",
      "\u001b[0;32m//anaconda/lib/python2.7/site-packages/seaborn/categorical.pyc\u001b[0m in \u001b[0;36mestablish_variables\u001b[0;34m(self, x, y, hue, data, orient, order, hue_order, units)\u001b[0m\n\u001b[1;32m    193\u001b[0m \u001b[0;34m\u001b[0m\u001b[0m\n\u001b[1;32m    194\u001b[0m                 \u001b[0;31m# Get the order on the categorical axis\u001b[0m\u001b[0;34m\u001b[0m\u001b[0;34m\u001b[0m\u001b[0m\n\u001b[0;32m--> 195\u001b[0;31m                 \u001b[0mgroup_names\u001b[0m \u001b[0;34m=\u001b[0m \u001b[0mcategorical_order\u001b[0m\u001b[0;34m(\u001b[0m\u001b[0mgroups\u001b[0m\u001b[0;34m,\u001b[0m \u001b[0morder\u001b[0m\u001b[0;34m)\u001b[0m\u001b[0;34m\u001b[0m\u001b[0m\n\u001b[0m\u001b[1;32m    196\u001b[0m \u001b[0;34m\u001b[0m\u001b[0m\n\u001b[1;32m    197\u001b[0m                 \u001b[0;31m# Group the numeric data\u001b[0m\u001b[0;34m\u001b[0m\u001b[0;34m\u001b[0m\u001b[0m\n",
      "\u001b[0;32m//anaconda/lib/python2.7/site-packages/seaborn/utils.pyc\u001b[0m in \u001b[0;36mcategorical_order\u001b[0;34m(values, order)\u001b[0m\n\u001b[1;32m    521\u001b[0m                     \u001b[0morder\u001b[0m \u001b[0;34m=\u001b[0m \u001b[0mvalues\u001b[0m\u001b[0;34m.\u001b[0m\u001b[0munique\u001b[0m\u001b[0;34m(\u001b[0m\u001b[0;34m)\u001b[0m\u001b[0;34m\u001b[0m\u001b[0m\n\u001b[1;32m    522\u001b[0m                 \u001b[0;32mexcept\u001b[0m \u001b[0mAttributeError\u001b[0m\u001b[0;34m:\u001b[0m\u001b[0;34m\u001b[0m\u001b[0m\n\u001b[0;32m--> 523\u001b[0;31m                     \u001b[0morder\u001b[0m \u001b[0;34m=\u001b[0m \u001b[0mpd\u001b[0m\u001b[0;34m.\u001b[0m\u001b[0munique\u001b[0m\u001b[0;34m(\u001b[0m\u001b[0mvalues\u001b[0m\u001b[0;34m)\u001b[0m\u001b[0;34m\u001b[0m\u001b[0m\n\u001b[0m\u001b[1;32m    524\u001b[0m                 \u001b[0;32mtry\u001b[0m\u001b[0;34m:\u001b[0m\u001b[0;34m\u001b[0m\u001b[0m\n\u001b[1;32m    525\u001b[0m                     \u001b[0mnp\u001b[0m\u001b[0;34m.\u001b[0m\u001b[0masarray\u001b[0m\u001b[0;34m(\u001b[0m\u001b[0mvalues\u001b[0m\u001b[0;34m)\u001b[0m\u001b[0;34m.\u001b[0m\u001b[0mastype\u001b[0m\u001b[0;34m(\u001b[0m\u001b[0mnp\u001b[0m\u001b[0;34m.\u001b[0m\u001b[0mfloat\u001b[0m\u001b[0;34m)\u001b[0m\u001b[0;34m\u001b[0m\u001b[0m\n",
      "\u001b[0;32m//anaconda/lib/python2.7/site-packages/pandas/core/algorithms.pyc\u001b[0m in \u001b[0;36munique\u001b[0;34m(values)\u001b[0m\n\u001b[1;32m     79\u001b[0m     \u001b[0muniques\u001b[0m\u001b[0;34m\u001b[0m\u001b[0m\n\u001b[1;32m     80\u001b[0m     \"\"\"\n\u001b[0;32m---> 81\u001b[0;31m     \u001b[0mvalues\u001b[0m \u001b[0;34m=\u001b[0m \u001b[0mcom\u001b[0m\u001b[0;34m.\u001b[0m\u001b[0m_asarray_tuplesafe\u001b[0m\u001b[0;34m(\u001b[0m\u001b[0mvalues\u001b[0m\u001b[0;34m)\u001b[0m\u001b[0;34m\u001b[0m\u001b[0m\n\u001b[0m\u001b[1;32m     82\u001b[0m \u001b[0;34m\u001b[0m\u001b[0m\n\u001b[1;32m     83\u001b[0m     \u001b[0mf\u001b[0m \u001b[0;34m=\u001b[0m \u001b[0;32mlambda\u001b[0m \u001b[0mhtype\u001b[0m\u001b[0;34m,\u001b[0m \u001b[0mcaster\u001b[0m\u001b[0;34m:\u001b[0m \u001b[0m_unique_generic\u001b[0m\u001b[0;34m(\u001b[0m\u001b[0mvalues\u001b[0m\u001b[0;34m,\u001b[0m \u001b[0mhtype\u001b[0m\u001b[0;34m,\u001b[0m \u001b[0mcaster\u001b[0m\u001b[0;34m)\u001b[0m\u001b[0;34m\u001b[0m\u001b[0m\n",
      "\u001b[0;32m//anaconda/lib/python2.7/site-packages/pandas/core/common.pyc\u001b[0m in \u001b[0;36m_asarray_tuplesafe\u001b[0;34m(values, dtype)\u001b[0m\n\u001b[1;32m   1405\u001b[0m             \u001b[0;32mexcept\u001b[0m \u001b[0mValueError\u001b[0m\u001b[0;34m:\u001b[0m\u001b[0;34m\u001b[0m\u001b[0m\n\u001b[1;32m   1406\u001b[0m                 \u001b[0;31m# we have a list-of-list\u001b[0m\u001b[0;34m\u001b[0m\u001b[0;34m\u001b[0m\u001b[0m\n\u001b[0;32m-> 1407\u001b[0;31m                 \u001b[0mresult\u001b[0m\u001b[0;34m[\u001b[0m\u001b[0;34m:\u001b[0m\u001b[0;34m]\u001b[0m \u001b[0;34m=\u001b[0m \u001b[0;34m[\u001b[0m\u001b[0mtuple\u001b[0m\u001b[0;34m(\u001b[0m\u001b[0mx\u001b[0m\u001b[0;34m)\u001b[0m \u001b[0;32mfor\u001b[0m \u001b[0mx\u001b[0m \u001b[0;32min\u001b[0m \u001b[0mvalues\u001b[0m\u001b[0;34m]\u001b[0m\u001b[0;34m\u001b[0m\u001b[0m\n\u001b[0m\u001b[1;32m   1408\u001b[0m \u001b[0;34m\u001b[0m\u001b[0m\n\u001b[1;32m   1409\u001b[0m     \u001b[0;32mreturn\u001b[0m \u001b[0mresult\u001b[0m\u001b[0;34m\u001b[0m\u001b[0m\n",
      "\u001b[0;31mValueError\u001b[0m: cannot copy sequence with size 3 to array axis with dimension 5062"
     ]
    }
   ],
   "source": [
    "keep_cols = ['match','samerace','gender']\n",
    "df_race = df[keep_cols]\n",
    "samerace = df_race[df_race['samerace']==0]\n",
    "matched_samerace = samerace[samerace['match']==1]\n",
    "\n",
    "sns.barplot(x = samerace, y = matched_samerace, palette=\"Reds_d\")"
   ]
  },
  {
   "cell_type": "code",
   "execution_count": 35,
   "metadata": {
    "collapsed": false
   },
   "outputs": [
    {
     "ename": "TypeError",
     "evalue": "list indices must be integers, not str",
     "output_type": "error",
     "traceback": [
      "\u001b[0;31m---------------------------------------------------------------------------\u001b[0m",
      "\u001b[0;31mTypeError\u001b[0m                                 Traceback (most recent call last)",
      "\u001b[0;32m<ipython-input-35-7ef47ea15188>\u001b[0m in \u001b[0;36m<module>\u001b[0;34m()\u001b[0m\n\u001b[1;32m      1\u001b[0m \u001b[0mkeep_cols\u001b[0m \u001b[0;34m=\u001b[0m \u001b[0;34m[\u001b[0m\u001b[0;34m'match'\u001b[0m\u001b[0;34m,\u001b[0m\u001b[0;34m'samerace'\u001b[0m\u001b[0;34m,\u001b[0m\u001b[0;34m'gender'\u001b[0m\u001b[0;34m]\u001b[0m\u001b[0;34m\u001b[0m\u001b[0m\n\u001b[0;32m----> 2\u001b[0;31m \u001b[0msamerace\u001b[0m \u001b[0;34m=\u001b[0m \u001b[0mkeep_cols\u001b[0m\u001b[0;34m[\u001b[0m\u001b[0mkeep_cols\u001b[0m\u001b[0;34m[\u001b[0m\u001b[0;34m'samerace'\u001b[0m\u001b[0;34m]\u001b[0m \u001b[0;34m==\u001b[0m \u001b[0;36m1\u001b[0m\u001b[0;34m]\u001b[0m\u001b[0;34m\u001b[0m\u001b[0m\n\u001b[0m\u001b[1;32m      3\u001b[0m \u001b[0mmatch\u001b[0m \u001b[0;34m=\u001b[0m \u001b[0mkeep_cols\u001b[0m\u001b[0;34m[\u001b[0m\u001b[0mkeep_cols\u001b[0m\u001b[0;34m[\u001b[0m\u001b[0;34m'match'\u001b[0m\u001b[0;34m]\u001b[0m\u001b[0;34m==\u001b[0m\u001b[0;36m1\u001b[0m\u001b[0;34m]\u001b[0m\u001b[0;34m\u001b[0m\u001b[0m\n\u001b[1;32m      4\u001b[0m \u001b[0;31m#sns.barplot(x='samerace', y='match')\u001b[0m\u001b[0;34m\u001b[0m\u001b[0;34m\u001b[0m\u001b[0m\n\u001b[1;32m      5\u001b[0m \u001b[0;34m\u001b[0m\u001b[0m\n",
      "\u001b[0;31mTypeError\u001b[0m: list indices must be integers, not str"
     ]
    }
   ],
   "source": [
    "keep_cols = ['match','samerace','gender']\n",
    "samerace = keep_cols[keep_cols['samerace'] == 1]\n",
    "match = keep_cols[keep_cols['match']==1]\n",
    "#sns.barplot(x='samerace', y='match')\n",
    "\n",
    "\n",
    "sns.countplot(x= samerace, data= keep_cols, palette=\"Greens_d\");"
   ]
  },
  {
   "cell_type": "code",
   "execution_count": 36,
   "metadata": {
    "collapsed": false
   },
   "outputs": [
    {
     "name": "stdout",
     "output_type": "stream",
     "text": [
      "iid         933755.00\n",
      "id           29413.00\n",
      "gender        1658.00\n",
      "idg          56954.00\n",
      "condtn        6172.00\n",
      "wave         37272.00\n",
      "round        56556.00\n",
      "position     30684.00\n",
      "positin1     25080.00\n",
      "order        29798.00\n",
      "partner      29413.00\n",
      "pid         933755.00\n",
      "match          566.00\n",
      "int_corr       676.88\n",
      "samerace      3316.00\n",
      "age_o        87035.00\n",
      "race_o        7794.00\n",
      "pf_o_att     75443.41\n",
      "pf_o_sin     56053.86\n",
      "pf_o_int     67638.65\n",
      "pf_o_fun     58541.83\n",
      "pf_o_amb     34586.22\n",
      "pf_o_sha     38714.57\n",
      "dec_o         1439.00\n",
      "attr_o       20455.90\n",
      "sinc_o       23149.00\n",
      "intel_o      23723.00\n",
      "fun_o        20408.50\n",
      "amb_o        20477.50\n",
      "shar_o       16279.00\n",
      "              ...    \n",
      "amb1_3       18092.74\n",
      "shar1_3      21336.15\n",
      "attr7_3      28117.00\n",
      "sinc7_3      13310.00\n",
      "intel7_3     14181.00\n",
      "fun7_3       14382.00\n",
      "amb7_3        6685.00\n",
      "shar7_3      10215.00\n",
      "attr4_3      32948.00\n",
      "sinc4_3      13339.00\n",
      "intel4_3     14920.00\n",
      "fun4_3       18335.00\n",
      "amb4_3       12333.00\n",
      "shar4_3      14368.00\n",
      "attr2_3      32580.00\n",
      "sinc2_3      13910.00\n",
      "intel2_3     14825.00\n",
      "fun2_3       19409.00\n",
      "amb2_3       12215.00\n",
      "shar2_3      10418.00\n",
      "attr3_3      12638.00\n",
      "sinc3_3      13906.00\n",
      "intel3_3     14641.00\n",
      "fun3_3       13327.00\n",
      "amb3_3       12753.00\n",
      "attr5_3       6028.00\n",
      "sinc5_3       6606.00\n",
      "intel5_3      6982.00\n",
      "fun5_3        6304.00\n",
      "amb5_3        6163.00\n",
      "dtype: float64\n"
     ]
    }
   ],
   "source": [
    "samerace = df[df['samerace'] == 1]\n",
    "differentrace = df[df['samerace'] == 0]\n",
    "#race = [samerace, differentrace]\n",
    "#race = race.apply(lambda x : x.fillna(x.mean())).stack().reset_index(-1)\n",
    "#race.columns = ['category', 'value']\n",
    "#sns.barplot (x= 'category', y= 'value',data= race)\n",
    "print samerace.sum()"
   ]
  },
  {
   "cell_type": "code",
   "execution_count": 37,
   "metadata": {
    "collapsed": false
   },
   "outputs": [
    {
     "ename": "ValueError",
     "evalue": "No axis named fun4_2 for object type <class 'pandas.core.frame.DataFrame'>",
     "output_type": "error",
     "traceback": [
      "\u001b[0;31m---------------------------------------------------------------------------\u001b[0m",
      "\u001b[0;31mValueError\u001b[0m                                Traceback (most recent call last)",
      "\u001b[0;32m<ipython-input-37-44901261a7c8>\u001b[0m in \u001b[0;36m<module>\u001b[0;34m()\u001b[0m\n\u001b[1;32m      5\u001b[0m \u001b[0muValues\u001b[0m \u001b[0;34m=\u001b[0m \u001b[0mlist\u001b[0m\u001b[0;34m(\u001b[0m \u001b[0mset\u001b[0m\u001b[0;34m(\u001b[0m \u001b[0msamerace_matched\u001b[0m\u001b[0;34m)\u001b[0m\u001b[0;34m)\u001b[0m\u001b[0;34m\u001b[0m\u001b[0m\n\u001b[1;32m      6\u001b[0m \u001b[0mxVals\u001b[0m \u001b[0;34m=\u001b[0m \u001b[0mrange\u001b[0m\u001b[0;34m(\u001b[0m \u001b[0;36m0\u001b[0m\u001b[0;34m,\u001b[0m \u001b[0mlen\u001b[0m\u001b[0;34m(\u001b[0m \u001b[0muValues\u001b[0m\u001b[0;34m)\u001b[0m\u001b[0;34m)\u001b[0m\u001b[0;34m\u001b[0m\u001b[0m\n\u001b[0;32m----> 7\u001b[0;31m \u001b[0myVals\u001b[0m \u001b[0;34m=\u001b[0m \u001b[0mmap\u001b[0m\u001b[0;34m(\u001b[0m \u001b[0;32mlambda\u001b[0m \u001b[0mx\u001b[0m\u001b[0;34m:\u001b[0m \u001b[0msamerace\u001b[0m\u001b[0;34m.\u001b[0m\u001b[0mcount\u001b[0m\u001b[0;34m(\u001b[0m \u001b[0muValues\u001b[0m\u001b[0;34m[\u001b[0m\u001b[0mx\u001b[0m\u001b[0;34m]\u001b[0m\u001b[0;34m)\u001b[0m\u001b[0;34m,\u001b[0m \u001b[0mxVals\u001b[0m\u001b[0;34m)\u001b[0m\u001b[0;34m\u001b[0m\u001b[0m\n\u001b[0m\u001b[1;32m      8\u001b[0m \u001b[0;34m\u001b[0m\u001b[0m\n\u001b[1;32m      9\u001b[0m \u001b[0;32mimport\u001b[0m \u001b[0mpylab\u001b[0m\u001b[0;34m\u001b[0m\u001b[0m\n",
      "\u001b[0;32m<ipython-input-37-44901261a7c8>\u001b[0m in \u001b[0;36m<lambda>\u001b[0;34m(x)\u001b[0m\n\u001b[1;32m      5\u001b[0m \u001b[0muValues\u001b[0m \u001b[0;34m=\u001b[0m \u001b[0mlist\u001b[0m\u001b[0;34m(\u001b[0m \u001b[0mset\u001b[0m\u001b[0;34m(\u001b[0m \u001b[0msamerace_matched\u001b[0m\u001b[0;34m)\u001b[0m\u001b[0;34m)\u001b[0m\u001b[0;34m\u001b[0m\u001b[0m\n\u001b[1;32m      6\u001b[0m \u001b[0mxVals\u001b[0m \u001b[0;34m=\u001b[0m \u001b[0mrange\u001b[0m\u001b[0;34m(\u001b[0m \u001b[0;36m0\u001b[0m\u001b[0;34m,\u001b[0m \u001b[0mlen\u001b[0m\u001b[0;34m(\u001b[0m \u001b[0muValues\u001b[0m\u001b[0;34m)\u001b[0m\u001b[0;34m)\u001b[0m\u001b[0;34m\u001b[0m\u001b[0m\n\u001b[0;32m----> 7\u001b[0;31m \u001b[0myVals\u001b[0m \u001b[0;34m=\u001b[0m \u001b[0mmap\u001b[0m\u001b[0;34m(\u001b[0m \u001b[0;32mlambda\u001b[0m \u001b[0mx\u001b[0m\u001b[0;34m:\u001b[0m \u001b[0msamerace\u001b[0m\u001b[0;34m.\u001b[0m\u001b[0mcount\u001b[0m\u001b[0;34m(\u001b[0m \u001b[0muValues\u001b[0m\u001b[0;34m[\u001b[0m\u001b[0mx\u001b[0m\u001b[0;34m]\u001b[0m\u001b[0;34m)\u001b[0m\u001b[0;34m,\u001b[0m \u001b[0mxVals\u001b[0m\u001b[0;34m)\u001b[0m\u001b[0;34m\u001b[0m\u001b[0m\n\u001b[0m\u001b[1;32m      8\u001b[0m \u001b[0;34m\u001b[0m\u001b[0m\n\u001b[1;32m      9\u001b[0m \u001b[0;32mimport\u001b[0m \u001b[0mpylab\u001b[0m\u001b[0;34m\u001b[0m\u001b[0m\n",
      "\u001b[0;32m//anaconda/lib/python2.7/site-packages/pandas/core/frame.pyc\u001b[0m in \u001b[0;36mcount\u001b[0;34m(self, axis, level, numeric_only)\u001b[0m\n\u001b[1;32m   4693\u001b[0m         \u001b[0mcount\u001b[0m \u001b[0;34m:\u001b[0m \u001b[0mSeries\u001b[0m \u001b[0;34m(\u001b[0m\u001b[0;32mor\u001b[0m \u001b[0mDataFrame\u001b[0m \u001b[0;32mif\u001b[0m \u001b[0mlevel\u001b[0m \u001b[0mspecified\u001b[0m\u001b[0;34m)\u001b[0m\u001b[0;34m\u001b[0m\u001b[0m\n\u001b[1;32m   4694\u001b[0m         \"\"\"\n\u001b[0;32m-> 4695\u001b[0;31m         \u001b[0maxis\u001b[0m \u001b[0;34m=\u001b[0m \u001b[0mself\u001b[0m\u001b[0;34m.\u001b[0m\u001b[0m_get_axis_number\u001b[0m\u001b[0;34m(\u001b[0m\u001b[0maxis\u001b[0m\u001b[0;34m)\u001b[0m\u001b[0;34m\u001b[0m\u001b[0m\n\u001b[0m\u001b[1;32m   4696\u001b[0m         \u001b[0;32mif\u001b[0m \u001b[0mlevel\u001b[0m \u001b[0;32mis\u001b[0m \u001b[0;32mnot\u001b[0m \u001b[0mNone\u001b[0m\u001b[0;34m:\u001b[0m\u001b[0;34m\u001b[0m\u001b[0m\n\u001b[1;32m   4697\u001b[0m             return self._count_level(level, axis=axis,\n",
      "\u001b[0;32m//anaconda/lib/python2.7/site-packages/pandas/core/generic.pyc\u001b[0m in \u001b[0;36m_get_axis_number\u001b[0;34m(self, axis)\u001b[0m\n\u001b[1;32m    316\u001b[0m                 \u001b[0;32mpass\u001b[0m\u001b[0;34m\u001b[0m\u001b[0m\n\u001b[1;32m    317\u001b[0m         raise ValueError('No axis named {0} for object type {1}'\n\u001b[0;32m--> 318\u001b[0;31m                          .format(axis, type(self)))\n\u001b[0m\u001b[1;32m    319\u001b[0m \u001b[0;34m\u001b[0m\u001b[0m\n\u001b[1;32m    320\u001b[0m     \u001b[0;32mdef\u001b[0m \u001b[0m_get_axis_name\u001b[0m\u001b[0;34m(\u001b[0m\u001b[0mself\u001b[0m\u001b[0;34m,\u001b[0m \u001b[0maxis\u001b[0m\u001b[0;34m)\u001b[0m\u001b[0;34m:\u001b[0m\u001b[0;34m\u001b[0m\u001b[0m\n",
      "\u001b[0;31mValueError\u001b[0m: No axis named fun4_2 for object type <class 'pandas.core.frame.DataFrame'>"
     ]
    }
   ],
   "source": [
    "import matplotlib.pyplot as plt\n",
    "from collections import Counter\n",
    "samerace = df[df['samerace'] == 1]\n",
    "samerace_matched = samerace[samerace['match']==1]\n",
    "uValues = list( set( samerace_matched))\n",
    "xVals = range( 0, len( uValues))\n",
    "yVals = map( lambda x: samerace.count( uValues[x]), xVals)\n",
    "\n",
    "import pylab\n",
    "pylab.bar( xVals, yVals)"
   ]
  },
  {
   "cell_type": "code",
   "execution_count": 38,
   "metadata": {
    "collapsed": false
   },
   "outputs": [
    {
     "data": {
      "text/plain": [
       "<matplotlib.axes._subplots.AxesSubplot at 0x11eea0f90>"
      ]
     },
     "execution_count": 38,
     "metadata": {},
     "output_type": "execute_result"
    },
    {
     "data": {
      "image/png": "[encoded data removed]",
      "text/plain": [
       "<matplotlib.figure.Figure at 0x11f103f50>"
      ]
     },
     "metadata": {},
     "output_type": "display_data"
    }
   ],
   "source": [
    "samerace = df[df['samerace'] == 1] #split race \n",
    "differentrace = df[df['samerace'] == 0]\n",
    "samerace.fillna(value=0,inplace=True)\n",
    "differentrace.fillna(value=0, inplace = True)\n",
    "\n",
    "#x==samerace match \n",
    "\n",
    "matched_race = samerace[samerace['match']==1]\n",
    "matched_differentrace =differentrace[differentrace['match']==1]\n",
    "matched_df_vars1 = matched_race.sum(), matched_differentrace.sum()\n",
    "sns.barplot(x=matched_df_vars)\n",
    "#histogram_data1 = matched_df_vars1.sum(axis=0)\n",
    "#sns.barplot(x=histogram_data1.index, y=histogram_data1,  palette=\"Purples_d\");\n",
    "#sns.plt.title('Most Desirable Attributes in a Female Partner')"
   ]
  },
  {
   "cell_type": "code",
   "execution_count": 100,
   "metadata": {
    "collapsed": false
   },
   "outputs": [
    {
     "ename": "KeyError",
     "evalue": "False",
     "output_type": "error",
     "traceback": [
      "\u001b[0;31m---------------------------------------------------------------------------\u001b[0m",
      "\u001b[0;31mKeyError\u001b[0m                                  Traceback (most recent call last)",
      "\u001b[0;32m<ipython-input-100-372eb785df6d>\u001b[0m in \u001b[0;36m<module>\u001b[0;34m()\u001b[0m\n\u001b[1;32m      1\u001b[0m \u001b[0msamerace_matched\u001b[0m \u001b[0;34m=\u001b[0m \u001b[0msamerace\u001b[0m\u001b[0;34m[\u001b[0m\u001b[0msamerace\u001b[0m\u001b[0;34m[\u001b[0m\u001b[0;34m'match'\u001b[0m\u001b[0;34m]\u001b[0m\u001b[0;34m==\u001b[0m\u001b[0;36m1\u001b[0m\u001b[0;34m]\u001b[0m\u001b[0;34m\u001b[0m\u001b[0m\n\u001b[0;32m----> 2\u001b[0;31m \u001b[0msamerace_matchedvariables\u001b[0m \u001b[0;34m=\u001b[0m \u001b[0msamerace_matched\u001b[0m\u001b[0;34m[\u001b[0m\u001b[0;34m[\u001b[0m\u001b[0;34m'samerace'\u001b[0m\u001b[0;34m]\u001b[0m\u001b[0;34m==\u001b[0m\u001b[0;36m1\u001b[0m\u001b[0;34m]\u001b[0m\u001b[0;34m\u001b[0m\u001b[0m\n\u001b[0m\u001b[1;32m      3\u001b[0m \u001b[0mhistogram_data_race\u001b[0m \u001b[0;34m=\u001b[0m \u001b[0msamerace_matchedvariables\u001b[0m\u001b[0;34m.\u001b[0m\u001b[0msum\u001b[0m\u001b[0;34m(\u001b[0m\u001b[0;34m)\u001b[0m\u001b[0;34m\u001b[0m\u001b[0m\n\u001b[1;32m      4\u001b[0m \u001b[0msns\u001b[0m\u001b[0;34m.\u001b[0m\u001b[0mbarplot\u001b[0m\u001b[0;34m(\u001b[0m\u001b[0mx\u001b[0m\u001b[0;34m=\u001b[0m\u001b[0mhistogram_data_race\u001b[0m\u001b[0;34m.\u001b[0m\u001b[0mindex\u001b[0m\u001b[0;34m,\u001b[0m \u001b[0my\u001b[0m\u001b[0;34m=\u001b[0m\u001b[0mhistogram_data_race\u001b[0m\u001b[0;34m,\u001b[0m  \u001b[0mpalette\u001b[0m\u001b[0;34m=\u001b[0m\u001b[0;34m\"Purples_d\"\u001b[0m\u001b[0;34m)\u001b[0m\u001b[0;34m;\u001b[0m\u001b[0;34m\u001b[0m\u001b[0m\n\u001b[1;32m      5\u001b[0m \u001b[0;34m\u001b[0m\u001b[0m\n",
      "\u001b[0;32m//anaconda/lib/python2.7/site-packages/pandas/core/frame.pyc\u001b[0m in \u001b[0;36m__getitem__\u001b[0;34m(self, key)\u001b[0m\n\u001b[1;32m   1995\u001b[0m             \u001b[0;32mreturn\u001b[0m \u001b[0mself\u001b[0m\u001b[0;34m.\u001b[0m\u001b[0m_getitem_multilevel\u001b[0m\u001b[0;34m(\u001b[0m\u001b[0mkey\u001b[0m\u001b[0;34m)\u001b[0m\u001b[0;34m\u001b[0m\u001b[0m\n\u001b[1;32m   1996\u001b[0m         \u001b[0;32melse\u001b[0m\u001b[0;34m:\u001b[0m\u001b[0;34m\u001b[0m\u001b[0m\n\u001b[0;32m-> 1997\u001b[0;31m             \u001b[0;32mreturn\u001b[0m \u001b[0mself\u001b[0m\u001b[0;34m.\u001b[0m\u001b[0m_getitem_column\u001b[0m\u001b[0;34m(\u001b[0m\u001b[0mkey\u001b[0m\u001b[0;34m)\u001b[0m\u001b[0;34m\u001b[0m\u001b[0m\n\u001b[0m\u001b[1;32m   1998\u001b[0m \u001b[0;34m\u001b[0m\u001b[0m\n\u001b[1;32m   1999\u001b[0m     \u001b[0;32mdef\u001b[0m \u001b[0m_getitem_column\u001b[0m\u001b[0;34m(\u001b[0m\u001b[0mself\u001b[0m\u001b[0;34m,\u001b[0m \u001b[0mkey\u001b[0m\u001b[0;34m)\u001b[0m\u001b[0;34m:\u001b[0m\u001b[0;34m\u001b[0m\u001b[0m\n",
      "\u001b[0;32m//anaconda/lib/python2.7/site-packages/pandas/core/frame.pyc\u001b[0m in \u001b[0;36m_getitem_column\u001b[0;34m(self, key)\u001b[0m\n\u001b[1;32m   2002\u001b[0m         \u001b[0;31m# get column\u001b[0m\u001b[0;34m\u001b[0m\u001b[0;34m\u001b[0m\u001b[0m\n\u001b[1;32m   2003\u001b[0m         \u001b[0;32mif\u001b[0m \u001b[0mself\u001b[0m\u001b[0;34m.\u001b[0m\u001b[0mcolumns\u001b[0m\u001b[0;34m.\u001b[0m\u001b[0mis_unique\u001b[0m\u001b[0;34m:\u001b[0m\u001b[0;34m\u001b[0m\u001b[0m\n\u001b[0;32m-> 2004\u001b[0;31m             \u001b[0;32mreturn\u001b[0m \u001b[0mself\u001b[0m\u001b[0;34m.\u001b[0m\u001b[0m_get_item_cache\u001b[0m\u001b[0;34m(\u001b[0m\u001b[0mkey\u001b[0m\u001b[0;34m)\u001b[0m\u001b[0;34m\u001b[0m\u001b[0m\n\u001b[0m\u001b[1;32m   2005\u001b[0m \u001b[0;34m\u001b[0m\u001b[0m\n\u001b[1;32m   2006\u001b[0m         \u001b[0;31m# duplicate columns & possible reduce dimensionality\u001b[0m\u001b[0;34m\u001b[0m\u001b[0;34m\u001b[0m\u001b[0m\n",
      "\u001b[0;32m//anaconda/lib/python2.7/site-packages/pandas/core/generic.pyc\u001b[0m in \u001b[0;36m_get_item_cache\u001b[0;34m(self, item)\u001b[0m\n\u001b[1;32m   1348\u001b[0m         \u001b[0mres\u001b[0m \u001b[0;34m=\u001b[0m \u001b[0mcache\u001b[0m\u001b[0;34m.\u001b[0m\u001b[0mget\u001b[0m\u001b[0;34m(\u001b[0m\u001b[0mitem\u001b[0m\u001b[0;34m)\u001b[0m\u001b[0;34m\u001b[0m\u001b[0m\n\u001b[1;32m   1349\u001b[0m         \u001b[0;32mif\u001b[0m \u001b[0mres\u001b[0m \u001b[0;32mis\u001b[0m \u001b[0mNone\u001b[0m\u001b[0;34m:\u001b[0m\u001b[0;34m\u001b[0m\u001b[0m\n\u001b[0;32m-> 1350\u001b[0;31m             \u001b[0mvalues\u001b[0m \u001b[0;34m=\u001b[0m \u001b[0mself\u001b[0m\u001b[0;34m.\u001b[0m\u001b[0m_data\u001b[0m\u001b[0;34m.\u001b[0m\u001b[0mget\u001b[0m\u001b[0;34m(\u001b[0m\u001b[0mitem\u001b[0m\u001b[0;34m)\u001b[0m\u001b[0;34m\u001b[0m\u001b[0m\n\u001b[0m\u001b[1;32m   1351\u001b[0m             \u001b[0mres\u001b[0m \u001b[0;34m=\u001b[0m \u001b[0mself\u001b[0m\u001b[0;34m.\u001b[0m\u001b[0m_box_item_values\u001b[0m\u001b[0;34m(\u001b[0m\u001b[0mitem\u001b[0m\u001b[0;34m,\u001b[0m \u001b[0mvalues\u001b[0m\u001b[0;34m)\u001b[0m\u001b[0;34m\u001b[0m\u001b[0m\n\u001b[1;32m   1352\u001b[0m             \u001b[0mcache\u001b[0m\u001b[0;34m[\u001b[0m\u001b[0mitem\u001b[0m\u001b[0;34m]\u001b[0m \u001b[0;34m=\u001b[0m \u001b[0mres\u001b[0m\u001b[0;34m\u001b[0m\u001b[0m\n",
      "\u001b[0;32m//anaconda/lib/python2.7/site-packages/pandas/core/internals.pyc\u001b[0m in \u001b[0;36mget\u001b[0;34m(self, item, fastpath)\u001b[0m\n\u001b[1;32m   3288\u001b[0m \u001b[0;34m\u001b[0m\u001b[0m\n\u001b[1;32m   3289\u001b[0m             \u001b[0;32mif\u001b[0m \u001b[0;32mnot\u001b[0m \u001b[0misnull\u001b[0m\u001b[0;34m(\u001b[0m\u001b[0mitem\u001b[0m\u001b[0;34m)\u001b[0m\u001b[0;34m:\u001b[0m\u001b[0;34m\u001b[0m\u001b[0m\n\u001b[0;32m-> 3290\u001b[0;31m                 \u001b[0mloc\u001b[0m \u001b[0;34m=\u001b[0m \u001b[0mself\u001b[0m\u001b[0;34m.\u001b[0m\u001b[0mitems\u001b[0m\u001b[0;34m.\u001b[0m\u001b[0mget_loc\u001b[0m\u001b[0;34m(\u001b[0m\u001b[0mitem\u001b[0m\u001b[0;34m)\u001b[0m\u001b[0;34m\u001b[0m\u001b[0m\n\u001b[0m\u001b[1;32m   3291\u001b[0m             \u001b[0;32melse\u001b[0m\u001b[0;34m:\u001b[0m\u001b[0;34m\u001b[0m\u001b[0m\n\u001b[1;32m   3292\u001b[0m                 \u001b[0mindexer\u001b[0m \u001b[0;34m=\u001b[0m \u001b[0mnp\u001b[0m\u001b[0;34m.\u001b[0m\u001b[0marange\u001b[0m\u001b[0;34m(\u001b[0m\u001b[0mlen\u001b[0m\u001b[0;34m(\u001b[0m\u001b[0mself\u001b[0m\u001b[0;34m.\u001b[0m\u001b[0mitems\u001b[0m\u001b[0;34m)\u001b[0m\u001b[0;34m)\u001b[0m\u001b[0;34m[\u001b[0m\u001b[0misnull\u001b[0m\u001b[0;34m(\u001b[0m\u001b[0mself\u001b[0m\u001b[0;34m.\u001b[0m\u001b[0mitems\u001b[0m\u001b[0;34m)\u001b[0m\u001b[0;34m]\u001b[0m\u001b[0;34m\u001b[0m\u001b[0m\n",
      "\u001b[0;32m//anaconda/lib/python2.7/site-packages/pandas/indexes/base.pyc\u001b[0m in \u001b[0;36mget_loc\u001b[0;34m(self, key, method, tolerance)\u001b[0m\n\u001b[1;32m   1945\u001b[0m                 \u001b[0;32mreturn\u001b[0m \u001b[0mself\u001b[0m\u001b[0;34m.\u001b[0m\u001b[0m_engine\u001b[0m\u001b[0;34m.\u001b[0m\u001b[0mget_loc\u001b[0m\u001b[0;34m(\u001b[0m\u001b[0mkey\u001b[0m\u001b[0;34m)\u001b[0m\u001b[0;34m\u001b[0m\u001b[0m\n\u001b[1;32m   1946\u001b[0m             \u001b[0;32mexcept\u001b[0m \u001b[0mKeyError\u001b[0m\u001b[0;34m:\u001b[0m\u001b[0;34m\u001b[0m\u001b[0m\n\u001b[0;32m-> 1947\u001b[0;31m                 \u001b[0;32mreturn\u001b[0m \u001b[0mself\u001b[0m\u001b[0;34m.\u001b[0m\u001b[0m_engine\u001b[0m\u001b[0;34m.\u001b[0m\u001b[0mget_loc\u001b[0m\u001b[0;34m(\u001b[0m\u001b[0mself\u001b[0m\u001b[0;34m.\u001b[0m\u001b[0m_maybe_cast_indexer\u001b[0m\u001b[0;34m(\u001b[0m\u001b[0mkey\u001b[0m\u001b[0;34m)\u001b[0m\u001b[0;34m)\u001b[0m\u001b[0;34m\u001b[0m\u001b[0m\n\u001b[0m\u001b[1;32m   1948\u001b[0m \u001b[0;34m\u001b[0m\u001b[0m\n\u001b[1;32m   1949\u001b[0m         \u001b[0mindexer\u001b[0m \u001b[0;34m=\u001b[0m \u001b[0mself\u001b[0m\u001b[0;34m.\u001b[0m\u001b[0mget_indexer\u001b[0m\u001b[0;34m(\u001b[0m\u001b[0;34m[\u001b[0m\u001b[0mkey\u001b[0m\u001b[0;34m]\u001b[0m\u001b[0;34m,\u001b[0m \u001b[0mmethod\u001b[0m\u001b[0;34m=\u001b[0m\u001b[0mmethod\u001b[0m\u001b[0;34m,\u001b[0m \u001b[0mtolerance\u001b[0m\u001b[0;34m=\u001b[0m\u001b[0mtolerance\u001b[0m\u001b[0;34m)\u001b[0m\u001b[0;34m\u001b[0m\u001b[0m\n",
      "\u001b[0;32mpandas/index.pyx\u001b[0m in \u001b[0;36mpandas.index.IndexEngine.get_loc (pandas/index.c:4154)\u001b[0;34m()\u001b[0m\n",
      "\u001b[0;32mpandas/index.pyx\u001b[0m in \u001b[0;36mpandas.index.IndexEngine.get_loc (pandas/index.c:4018)\u001b[0;34m()\u001b[0m\n",
      "\u001b[0;32mpandas/hashtable.pyx\u001b[0m in \u001b[0;36mpandas.hashtable.PyObjectHashTable.get_item (pandas/hashtable.c:12368)\u001b[0;34m()\u001b[0m\n",
      "\u001b[0;32mpandas/hashtable.pyx\u001b[0m in \u001b[0;36mpandas.hashtable.PyObjectHashTable.get_item (pandas/hashtable.c:12322)\u001b[0;34m()\u001b[0m\n",
      "\u001b[0;31mKeyError\u001b[0m: False"
     ]
    }
   ],
   "source": [
    "#delete\n",
    "samerace_matched = samerace[samerace['match']==1]\n",
    "samerace_matchedvariables = samerace_matched[['samerace']==1]\n",
    "histogram_data_race = samerace_matchedvariables.sum()\n",
    "sns.barplot(x=histogram_data_race.index, y=histogram_data_race,  palette=\"Purples_d\");\n",
    "sne.barplot\n",
    "\n",
    "#matched_df1 = men[men['match']==1]\n",
    "#matched_df_vars1 = matched_df1[race_sharedinterests]\n",
    "#histogram_data = matched_df_vars1.sum(axis=0)\n",
    "#sns.barplot(x=histogram_data.index, y=histogram_data,  palette=\"Purples_d\");\n",
    "#sns.plt.title('Most Desirable Attributes in a Female Partner')"
   ]
  },
  {
   "cell_type": "code",
   "execution_count": 50,
   "metadata": {
    "collapsed": false
   },
   "outputs": [
    {
     "data": {
      "text/plain": [
       "<matplotlib.axes._subplots.AxesSubplot at 0x11d60de90>"
      ]
     },
     "execution_count": 50,
     "metadata": {},
     "output_type": "execute_result"
    },
    {
     "data": {
      "image/png": "[encoded data removed]",
      "text/plain": [
       "<matplotlib.figure.Figure at 0x11e5a3cd0>"
      ]
     },
     "metadata": {},
     "output_type": "display_data"
    }
   ],
   "source": [
    "matched = df[df['match']==1]\n",
    "values = pd.DataFrame(data=matched['samerace'].value_counts())\n",
    "values.head()\n",
    "sns.barplot(x= values.index, y= values.samerace,  palette=\"Purples_d\");\n",
    "#sns.plt.title('Most Desirable Attributes in a Female Partner')"
   ]
  },
  {
   "cell_type": "code",
   "execution_count": 109,
   "metadata": {
    "collapsed": false
   },
   "outputs": [
    {
     "data": {
      "text/html": [
       "<div>\n",
       "<table border=\"1\" class=\"dataframe\">\n",
       "  <thead>\n",
       "    <tr style=\"text-align: right;\">\n",
       "      <th></th>\n",
       "      <th>iid</th>\n",
       "      <th>id</th>\n",
       "      <th>gender</th>\n",
       "      <th>idg</th>\n",
       "      <th>condtn</th>\n",
       "      <th>wave</th>\n",
       "      <th>round</th>\n",
       "      <th>position</th>\n",
       "      <th>positin1</th>\n",
       "      <th>order</th>\n",
       "      <th>...</th>\n",
       "      <th>attr3_3</th>\n",
       "      <th>sinc3_3</th>\n",
       "      <th>intel3_3</th>\n",
       "      <th>fun3_3</th>\n",
       "      <th>amb3_3</th>\n",
       "      <th>attr5_3</th>\n",
       "      <th>sinc5_3</th>\n",
       "      <th>intel5_3</th>\n",
       "      <th>fun5_3</th>\n",
       "      <th>amb5_3</th>\n",
       "    </tr>\n",
       "  </thead>\n",
       "  <tbody>\n",
       "    <tr>\n",
       "      <th>2</th>\n",
       "      <td>1</td>\n",
       "      <td>1.0</td>\n",
       "      <td>0</td>\n",
       "      <td>1</td>\n",
       "      <td>1</td>\n",
       "      <td>1</td>\n",
       "      <td>10</td>\n",
       "      <td>7</td>\n",
       "      <td>0.0</td>\n",
       "      <td>10</td>\n",
       "      <td>...</td>\n",
       "      <td>5.0</td>\n",
       "      <td>7.0</td>\n",
       "      <td>7.0</td>\n",
       "      <td>7.0</td>\n",
       "      <td>7.0</td>\n",
       "      <td>0.0</td>\n",
       "      <td>0.0</td>\n",
       "      <td>0.0</td>\n",
       "      <td>0.0</td>\n",
       "      <td>0.0</td>\n",
       "    </tr>\n",
       "    <tr>\n",
       "      <th>13</th>\n",
       "      <td>2</td>\n",
       "      <td>2.0</td>\n",
       "      <td>0</td>\n",
       "      <td>3</td>\n",
       "      <td>1</td>\n",
       "      <td>1</td>\n",
       "      <td>10</td>\n",
       "      <td>3</td>\n",
       "      <td>0.0</td>\n",
       "      <td>1</td>\n",
       "      <td>...</td>\n",
       "      <td>7.0</td>\n",
       "      <td>6.0</td>\n",
       "      <td>9.0</td>\n",
       "      <td>9.0</td>\n",
       "      <td>4.0</td>\n",
       "      <td>0.0</td>\n",
       "      <td>0.0</td>\n",
       "      <td>0.0</td>\n",
       "      <td>0.0</td>\n",
       "      <td>0.0</td>\n",
       "    </tr>\n",
       "    <tr>\n",
       "      <th>18</th>\n",
       "      <td>2</td>\n",
       "      <td>2.0</td>\n",
       "      <td>0</td>\n",
       "      <td>3</td>\n",
       "      <td>1</td>\n",
       "      <td>1</td>\n",
       "      <td>10</td>\n",
       "      <td>3</td>\n",
       "      <td>0.0</td>\n",
       "      <td>4</td>\n",
       "      <td>...</td>\n",
       "      <td>7.0</td>\n",
       "      <td>6.0</td>\n",
       "      <td>9.0</td>\n",
       "      <td>9.0</td>\n",
       "      <td>4.0</td>\n",
       "      <td>0.0</td>\n",
       "      <td>0.0</td>\n",
       "      <td>0.0</td>\n",
       "      <td>0.0</td>\n",
       "      <td>0.0</td>\n",
       "    </tr>\n",
       "    <tr>\n",
       "      <th>33</th>\n",
       "      <td>4</td>\n",
       "      <td>4.0</td>\n",
       "      <td>0</td>\n",
       "      <td>7</td>\n",
       "      <td>1</td>\n",
       "      <td>1</td>\n",
       "      <td>10</td>\n",
       "      <td>6</td>\n",
       "      <td>0.0</td>\n",
       "      <td>4</td>\n",
       "      <td>...</td>\n",
       "      <td>6.0</td>\n",
       "      <td>5.0</td>\n",
       "      <td>6.0</td>\n",
       "      <td>8.0</td>\n",
       "      <td>5.0</td>\n",
       "      <td>0.0</td>\n",
       "      <td>0.0</td>\n",
       "      <td>0.0</td>\n",
       "      <td>0.0</td>\n",
       "      <td>0.0</td>\n",
       "    </tr>\n",
       "    <tr>\n",
       "      <th>38</th>\n",
       "      <td>4</td>\n",
       "      <td>4.0</td>\n",
       "      <td>0</td>\n",
       "      <td>7</td>\n",
       "      <td>1</td>\n",
       "      <td>1</td>\n",
       "      <td>10</td>\n",
       "      <td>6</td>\n",
       "      <td>0.0</td>\n",
       "      <td>7</td>\n",
       "      <td>...</td>\n",
       "      <td>6.0</td>\n",
       "      <td>5.0</td>\n",
       "      <td>6.0</td>\n",
       "      <td>8.0</td>\n",
       "      <td>5.0</td>\n",
       "      <td>0.0</td>\n",
       "      <td>0.0</td>\n",
       "      <td>0.0</td>\n",
       "      <td>0.0</td>\n",
       "      <td>0.0</td>\n",
       "    </tr>\n",
       "  </tbody>\n",
       "</table>\n",
       "<p>5 rows × 195 columns</p>\n",
       "</div>"
      ],
      "text/plain": [
       "    iid   id  gender  idg  condtn  wave  round  position  positin1  order  \\\n",
       "2     1  1.0       0    1       1     1     10         7       0.0     10   \n",
       "13    2  2.0       0    3       1     1     10         3       0.0      1   \n",
       "18    2  2.0       0    3       1     1     10         3       0.0      4   \n",
       "33    4  4.0       0    7       1     1     10         6       0.0      4   \n",
       "38    4  4.0       0    7       1     1     10         6       0.0      7   \n",
       "\n",
       "     ...    attr3_3  sinc3_3  intel3_3  fun3_3  amb3_3  attr5_3  sinc5_3  \\\n",
       "2    ...        5.0      7.0       7.0     7.0     7.0      0.0      0.0   \n",
       "13   ...        7.0      6.0       9.0     9.0     4.0      0.0      0.0   \n",
       "18   ...        7.0      6.0       9.0     9.0     4.0      0.0      0.0   \n",
       "33   ...        6.0      5.0       6.0     8.0     5.0      0.0      0.0   \n",
       "38   ...        6.0      5.0       6.0     8.0     5.0      0.0      0.0   \n",
       "\n",
       "    intel5_3  fun5_3  amb5_3  \n",
       "2        0.0     0.0     0.0  \n",
       "13       0.0     0.0     0.0  \n",
       "18       0.0     0.0     0.0  \n",
       "33       0.0     0.0     0.0  \n",
       "38       0.0     0.0     0.0  \n",
       "\n",
       "[5 rows x 195 columns]"
      ]
     },
     "execution_count": 109,
     "metadata": {},
     "output_type": "execute_result"
    }
   ],
   "source": [
    "samerace_matched.head()"
   ]
  },
  {
   "cell_type": "code",
   "execution_count": 52,
   "metadata": {
    "collapsed": false
   },
   "outputs": [
    {
     "name": "stdout",
     "output_type": "stream",
     "text": [
      "Optimization terminated successfully.\n",
      "         Current function value: 0.379997\n",
      "         Iterations 7\n"
     ]
    },
    {
     "data": {
      "text/html": [
       "<table class=\"simpletable\">\n",
       "<caption>Logit Regression Results</caption>\n",
       "<tr>\n",
       "  <th>Dep. Variable:</th>       <td>match</td>      <th>  No. Observations:  </th>   <td>  4184</td>  \n",
       "</tr>\n",
       "<tr>\n",
       "  <th>Model:</th>               <td>Logit</td>      <th>  Df Residuals:      </th>   <td>  4176</td>  \n",
       "</tr>\n",
       "<tr>\n",
       "  <th>Method:</th>               <td>MLE</td>       <th>  Df Model:          </th>   <td>     7</td>  \n",
       "</tr>\n",
       "<tr>\n",
       "  <th>Date:</th>          <td>Thu, 01 Sep 2016</td> <th>  Pseudo R-squ.:     </th>   <td>0.1513</td>  \n",
       "</tr>\n",
       "<tr>\n",
       "  <th>Time:</th>              <td>20:16:51</td>     <th>  Log-Likelihood:    </th>  <td> -1589.9</td> \n",
       "</tr>\n",
       "<tr>\n",
       "  <th>converged:</th>           <td>True</td>       <th>  LL-Null:           </th>  <td> -1873.3</td> \n",
       "</tr>\n",
       "<tr>\n",
       "  <th> </th>                      <td> </td>        <th>  LLR p-value:       </th> <td>3.445e-118</td>\n",
       "</tr>\n",
       "</table>\n",
       "<table class=\"simpletable\">\n",
       "<tr>\n",
       "    <td></td>       <th>coef</th>     <th>std err</th>      <th>z</th>      <th>P>|z|</th> <th>[95.0% Conf. Int.]</th> \n",
       "</tr>\n",
       "<tr>\n",
       "  <th>const</th> <td>   -6.1426</td> <td>    0.319</td> <td>  -19.242</td> <td> 0.000</td> <td>   -6.768    -5.517</td>\n",
       "</tr>\n",
       "<tr>\n",
       "  <th>attr</th>  <td>    0.2158</td> <td>    0.030</td> <td>    7.127</td> <td> 0.000</td> <td>    0.156     0.275</td>\n",
       "</tr>\n",
       "<tr>\n",
       "  <th>sinc</th>  <td>    0.0447</td> <td>    0.033</td> <td>    1.354</td> <td> 0.176</td> <td>   -0.020     0.109</td>\n",
       "</tr>\n",
       "<tr>\n",
       "  <th>intel</th> <td>    0.0794</td> <td>    0.039</td> <td>    2.057</td> <td> 0.040</td> <td>    0.004     0.155</td>\n",
       "</tr>\n",
       "<tr>\n",
       "  <th>fun</th>   <td>    0.2852</td> <td>    0.033</td> <td>    8.530</td> <td> 0.000</td> <td>    0.220     0.351</td>\n",
       "</tr>\n",
       "<tr>\n",
       "  <th>amb</th>   <td>   -0.0867</td> <td>    0.022</td> <td>   -3.941</td> <td> 0.000</td> <td>   -0.130    -0.044</td>\n",
       "</tr>\n",
       "<tr>\n",
       "  <th>shar</th>  <td>    0.1188</td> <td>    0.021</td> <td>    5.794</td> <td> 0.000</td> <td>    0.079     0.159</td>\n",
       "</tr>\n",
       "<tr>\n",
       "  <th>race</th>  <td>    0.0829</td> <td>    0.035</td> <td>    2.351</td> <td> 0.019</td> <td>    0.014     0.152</td>\n",
       "</tr>\n",
       "</table>"
      ],
      "text/plain": [
       "<class 'statsmodels.iolib.summary.Summary'>\n",
       "\"\"\"\n",
       "                           Logit Regression Results                           \n",
       "==============================================================================\n",
       "Dep. Variable:                  match   No. Observations:                 4184\n",
       "Model:                          Logit   Df Residuals:                     4176\n",
       "Method:                           MLE   Df Model:                            7\n",
       "Date:                Thu, 01 Sep 2016   Pseudo R-squ.:                  0.1513\n",
       "Time:                        20:16:51   Log-Likelihood:                -1589.9\n",
       "converged:                       True   LL-Null:                       -1873.3\n",
       "                                        LLR p-value:                3.445e-118\n",
       "==============================================================================\n",
       "                 coef    std err          z      P>|z|      [95.0% Conf. Int.]\n",
       "------------------------------------------------------------------------------\n",
       "const         -6.1426      0.319    -19.242      0.000        -6.768    -5.517\n",
       "attr           0.2158      0.030      7.127      0.000         0.156     0.275\n",
       "sinc           0.0447      0.033      1.354      0.176        -0.020     0.109\n",
       "intel          0.0794      0.039      2.057      0.040         0.004     0.155\n",
       "fun            0.2852      0.033      8.530      0.000         0.220     0.351\n",
       "amb           -0.0867      0.022     -3.941      0.000        -0.130    -0.044\n",
       "shar           0.1188      0.021      5.794      0.000         0.079     0.159\n",
       "race           0.0829      0.035      2.351      0.019         0.014     0.152\n",
       "==============================================================================\n",
       "\"\"\""
      ]
     },
     "execution_count": 52,
     "metadata": {},
     "output_type": "execute_result"
    }
   ],
   "source": [
    "***\n",
    "\n",
    "x = women[input_vars]\n",
    "x = sm.add_constant(x)\n",
    "y = women.match\n",
    "female_model = sm.Logit(y,x)\n",
    "female_results = female_model.fit()\n",
    "female_results.summary()"
   ]
  },
  {
   "cell_type": "code",
   "execution_count": null,
   "metadata": {
    "collapsed": true
   },
   "outputs": [],
   "source": []
  }
 ],
 "metadata": {
  "kernelspec": {
   "display_name": "Python 2",
   "language": "python",
   "name": "python2"
  },
  "language_info": {
   "codemirror_mode": {
    "name": "ipython",
    "version": 2
   },
   "file_extension": ".py",
   "mimetype": "text/x-python",
   "name": "python",
   "nbconvert_exporter": "python",
   "pygments_lexer": "ipython2",
   "version": "2.7.12"
  }
 },
 "nbformat": 4,
 "nbformat_minor": 0
}
