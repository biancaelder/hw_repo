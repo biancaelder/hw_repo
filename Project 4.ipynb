{
 "cells": [
  {
   "cell_type": "markdown",
   "metadata": {},
   "source": [
    "# Project 4\n",
    "\n",
    "In this project, you will summarize and present your analysis from Projects 1-3."
   ]
  },
  {
   "cell_type": "markdown",
   "metadata": {},
   "source": [
    "### Intro: Write a problem Statement/ Specific Aim for this project"
   ]
  },
  {
   "cell_type": "markdown",
   "metadata": {},
   "source": [
    "Answer:  This project aims to determine how GPA, GRE, and prestige of undergraduate institution influence graduate admission. "
   ]
  },
  {
   "cell_type": "markdown",
   "metadata": {},
   "source": [
    "### Dataset:  Write up a description of your data and any cleaning that was completed"
   ]
  },
  {
   "cell_type": "markdown",
   "metadata": {},
   "source": [
    "Answer: The data is derived from a UCLA dataset on graduate admission. The categorical variable (rank) was replaced with dummy variables that corresponded with rank(Prestige1, Prestige2, Prestige3, Prestige4)."
   ]
  },
  {
   "cell_type": "markdown",
   "metadata": {
    "collapsed": true
   },
   "source": [
    "### Demo: Provide a table that explains the data by admission status"
   ]
  },
  {
   "cell_type": "markdown",
   "metadata": {},
   "source": [
    "Variable | Description | Type of Variable\n",
    "---|---|---\n",
    "GPA | grade point average on a 0.0 to 4.0 (lowest to highest) scale | continous\n",
    "GRE | score on graduate level admissions test on a 200 to 800 (lowest to highest) scale | continuous\n",
    "RANK| prestige of undergraduate institution on a 1 to 4 (lowest to highest) scale | categorical\n",
    "ADMIT |0 or 1 indicates whether a candidate was admited(1) or not (0)|categorical"
   ]
  },
  {
   "cell_type": "markdown",
   "metadata": {},
   "source": [
    "Mean (STD) or counts by admission status for each variable \n",
    "\n"
   ]
  },
  {
   "cell_type": "markdown",
   "metadata": {
    "collapsed": true
   },
   "source": [
    "| Not Admitted | Admitted\n",
    "---| ---|---\n",
    "GPA | 0.377133 | 0.370177\n",
    "GRE |115.830243 | 108.884884\n",
    "Prestige 1 | 28 | 33\n",
    "Prestige 2 | 97 | 54\n",
    "Prestige 3 |93 | 28\n",
    "Prestige 4 |55 | 12"
   ]
  },
  {
   "cell_type": "markdown",
   "metadata": {},
   "source": [
    "Confidence Intervals: "
   ]
  },
  {
   "cell_type": "markdown",
   "metadata": {},
   "source": [
    "\n",
    "| Not Admitted | Admitted\n",
    "--- | --- | ---\n",
    "gre |        0.000120 | 0.004409\n",
    "gpa |        0.153684 | 1.454391\n",
    "prestige_2| -1.295751| -0.055135\n",
    "prestige_3| -2.016992| -0.663416\n",
    "prestige_4| -2.370399| -0.732529"
   ]
  },
  {
   "cell_type": "markdown",
   "metadata": {},
   "source": [
    "### Methods: Write up the methods used in your analysis"
   ]
  },
  {
   "cell_type": "markdown",
   "metadata": {},
   "source": [
    "Answer: This analysis was completed using a logistic regression model to calculate the affect gre, gpa, and prestige have on graduate admission levels. "
   ]
  },
  {
   "cell_type": "markdown",
   "metadata": {},
   "source": [
    "### Results: Write up your results"
   ]
  },
  {
   "cell_type": "markdown",
   "metadata": {},
   "source": [
    "Answer: The confidence intervals of each coefficient indicate that probablity of admission is most correlated with the prestige of the candidate's undergraduate institution. According to the model, candidates coming from top ranked institutions are more likely to be accepted by the graduate program than those coming from a lower ranked school. "
   ]
  },
  {
   "cell_type": "markdown",
   "metadata": {},
   "source": [
    "### Visuals: Provide a table or visualization of these results"
   ]
  },
  {
   "cell_type": "code",
   "execution_count": 22,
   "metadata": {
    "collapsed": false
   },
   "outputs": [
    {
     "name": "stdout",
     "output_type": "stream",
     "text": [
      "Optimization terminated successfully.\n",
      "         Current function value: 0.573147\n",
      "         Iterations 6\n",
      "                           Logit Regression Results                           \n",
      "==============================================================================\n",
      "Dep. Variable:                  admit   No. Observations:                  400\n",
      "Model:                          Logit   Df Residuals:                      394\n",
      "Method:                           MLE   Df Model:                            5\n",
      "Date:                Mon, 08 Aug 2016   Pseudo R-squ.:                 0.08292\n",
      "Time:                        17:00:19   Log-Likelihood:                -229.26\n",
      "converged:                       True   LL-Null:                       -249.99\n",
      "                                        LLR p-value:                 7.578e-08\n",
      "==============================================================================\n",
      "                 coef    std err          z      P>|z|      [95.0% Conf. Int.]\n",
      "------------------------------------------------------------------------------\n",
      "gre            0.0023      0.001      2.070      0.038         0.000     0.004\n",
      "gpa            0.8040      0.332      2.423      0.015         0.154     1.454\n",
      "prestige_2    -0.6754      0.316     -2.134      0.033        -1.296    -0.055\n",
      "prestige_3    -1.3402      0.345     -3.881      0.000        -2.017    -0.663\n",
      "prestige_4    -1.5515      0.418     -3.713      0.000        -2.370    -0.733\n",
      "intercept     -3.9900      1.140     -3.500      0.000        -6.224    -1.756\n",
      "==============================================================================\n"
     ]
    }
   ],
   "source": [
    "df_raw = pd.read_csv(\"http://www.ats.ucla.edu/stat/data/binary.csv\")\n",
    "df = df_raw.dropna() \n",
    "df.columns = [\"admit\", \"gre\", \"gpa\", \"prestige\"]\n",
    "dummy_ranks = pd.get_dummies(df['prestige'], prefix='prestige')\n",
    "cols_to_keep = ['admit', 'gre', 'gpa']\n",
    "data = df[cols_to_keep].join(dummy_ranks.ix[:, 'prestige_2':])\n",
    "data['intercept'] = 1.0\n",
    "train_cols = data.columns[1:]\n",
    "logit = sm.Logit(data['admit'], data[train_cols])\n",
    "result = logit.fit()\n",
    "print result.summary()"
   ]
  },
  {
   "cell_type": "markdown",
   "metadata": {},
   "source": [
    "### Discussion: Write up your discussion and future steps"
   ]
  },
  {
   "cell_type": "markdown",
   "metadata": {},
   "source": [
    "Answer: This project sought to determine possible correlation between graduate admission and a candidate's gre, gpa,and prestige of undergraduate institution. Preliminary findings (via  logiistic regression) suggest that while gre and gpa have a slight positive correlation with admission, the prestige of undergraduate admission is a more significant determinant in a candidate's admission. \n",
    "\n",
    "While this project has successfully determined a correlation between admission and prestige, many opportunities for extending this research remain. For instance, one limitation of this project was the small, UCLA-only sample. Further research is needed to determine if these findings are specific to UCLA or if they are applicable across a range of institutions. It might also be beneficial to extend the independent variables under consideration (e.g., undergraduate degree, years out of school, program, etc.)when applying to graduate programs.  "
   ]
  },
  {
   "cell_type": "code",
   "execution_count": null,
   "metadata": {
    "collapsed": true
   },
   "outputs": [],
   "source": []
  }
 ],
 "metadata": {
  "anaconda-cloud": {},
  "kernelspec": {
   "display_name": "Python 2",
   "language": "python",
   "name": "python2"
  },
  "language_info": {
   "codemirror_mode": {
    "name": "ipython",
    "version": 2
   },
   "file_extension": ".py",
   "mimetype": "text/x-python",
   "name": "python",
   "nbconvert_exporter": "python",
   "pygments_lexer": "ipython2",
   "version": "2.7.12"
  }
 },
 "nbformat": 4,
 "nbformat_minor": 0
}
